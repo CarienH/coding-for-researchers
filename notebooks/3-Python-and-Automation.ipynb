{
 "cells": [
  {
   "cell_type": "markdown",
   "metadata": {
    "slideshow": {
     "slide_type": "slide"
    }
   },
   "source": [
    "## Coding Basics for Researchers - Day 1\n",
    "\n",
    "*Notebook by [Pedro V Hernandez Serrano](https://github.com/pedrohserrano)*\n"
   ]
  },
  {
   "cell_type": "markdown",
   "metadata": {
    "slideshow": {
     "slide_type": "-"
    }
   },
   "source": [
    "---\n",
    "# 3. Python and Automation\n",
    "* [3.1. Creating basic functions](#3.1)\n",
    "* [3.2. Sharing is caring](#3.2)\n"
   ]
  },
  {
   "cell_type": "markdown",
   "metadata": {
    "colab_type": "text",
    "id": "vrRXNXdPAcBu",
    "slideshow": {
     "slide_type": "slide"
    }
   },
   "source": [
    "---\n",
    "## 3.1. Creating basic functions\n",
    "<a id=\"3.1\">"
   ]
  },
  {
   "cell_type": "markdown",
   "metadata": {},
   "source": [
    "\n",
    "A function is a block of organized, reusable code that can make your scripts more effective, easier to read, and simple to manage. You can think of functions as small self-contained programs that can perform a specific task which you can repeatedly use in your code.\n",
    "\n",
    "We have already used some functions, such as the `print()` command, a built-in Python function.  \n",
    "\n",
    "Steps:"
   ]
  },
  {
   "cell_type": "markdown",
   "metadata": {},
   "source": [
    "- Begin the definition of a new function with def.\n",
    "- Followed by the name of the function.\n",
    "    - Must obey the same rules as variable names.\n",
    "- Then parameters in parentheses.\n",
    "    - Empty parentheses if the function doesn’t take any inputs.\n",
    "- Then a colon.\n",
    "- Then, an indented block of code."
   ]
  },
  {
   "cell_type": "code",
   "execution_count": 1,
   "metadata": {},
   "outputs": [],
   "source": [
    "def print_greeting():\n",
    "    print('Hello!')"
   ]
  },
  {
   "cell_type": "markdown",
   "metadata": {},
   "source": [
    "- Defining a function does not run it.\n",
    "    - Like assigning a value to a variable.\n",
    "- Must call the function to execute the code it contains."
   ]
  },
  {
   "cell_type": "code",
   "execution_count": 2,
   "metadata": {},
   "outputs": [
    {
     "data": {
      "text/plain": [
       "<function __main__.print_greeting()>"
      ]
     },
     "execution_count": 2,
     "metadata": {},
     "output_type": "execute_result"
    }
   ],
   "source": [
    "print_greeting"
   ]
  },
  {
   "cell_type": "markdown",
   "metadata": {},
   "source": [
    "- Functions become more useful when we specify parameters when defining a function.\n",
    "    - These paramaters become variables when the function is executed.\n",
    "    - When calling a function, one can pass pass values as arguments to the function. These values are then assigned to the parameter variables.\n",
    "    - If you don’t name the arguments when using them in the call, the arguments will be matched to parameters in the order as defined in the function."
   ]
  },
  {
   "cell_type": "code",
   "execution_count": 3,
   "metadata": {},
   "outputs": [],
   "source": [
    "def print_date(year, month, day):\n",
    "    joined = str(year) + '/' + str(month) + '/' + str(day)\n",
    "    return print(joined)"
   ]
  },
  {
   "cell_type": "code",
   "execution_count": 4,
   "metadata": {},
   "outputs": [
    {
     "name": "stdout",
     "output_type": "stream",
     "text": [
      "1871/3/19\n"
     ]
    }
   ],
   "source": [
    "print_date(1871, 3, 19)"
   ]
  },
  {
   "cell_type": "code",
   "execution_count": 5,
   "metadata": {},
   "outputs": [
    {
     "name": "stdout",
     "output_type": "stream",
     "text": [
      "1871/3/19\n"
     ]
    }
   ],
   "source": [
    "print_date(month=3, day=19, year=1871)"
   ]
  },
  {
   "cell_type": "markdown",
   "metadata": {
    "slideshow": {
     "slide_type": "subslide"
    }
   },
   "source": [
    "- Let's create a temperature converter"
   ]
  },
  {
   "cell_type": "code",
   "execution_count": 6,
   "metadata": {
    "slideshow": {
     "slide_type": "fragment"
    }
   },
   "outputs": [],
   "source": [
    "def celsiusToFahr(tempCelsius):\n",
    "    '''This function converts celsius to fahrenheit'''\n",
    "    celsius_value = 9/5 * tempCelsius + 32\n",
    "    return celsius_value"
   ]
  },
  {
   "cell_type": "code",
   "execution_count": 7,
   "metadata": {
    "slideshow": {
     "slide_type": "fragment"
    }
   },
   "outputs": [
    {
     "name": "stdout",
     "output_type": "stream",
     "text": [
      "The freezing point of water in Fahrenheit is: 32.0\n",
      "The boiling point of water in Fahrenheit is: 212.0\n"
     ]
    }
   ],
   "source": [
    "freezingPoint =  celsiusToFahr(0)\n",
    "\n",
    "print('The freezing point of water in Fahrenheit is:', freezingPoint)\n",
    "print('The boiling point of water in Fahrenheit is:', celsiusToFahr(100))"
   ]
  },
  {
   "cell_type": "markdown",
   "metadata": {
    "colab_type": "text",
    "id": "rQ7m4bCqAcB9",
    "slideshow": {
     "slide_type": "subslide"
    }
   },
   "source": [
    "Having a **docstring** in the function, helps to know what the function is about through the python command line:"
   ]
  },
  {
   "cell_type": "code",
   "execution_count": 8,
   "metadata": {
    "colab": {},
    "colab_type": "code",
    "id": "X0wG5V-oAcB-",
    "outputId": "0ccca1a4-91ba-43fd-8747-6b3c637b2d53",
    "slideshow": {
     "slide_type": "subslide"
    }
   },
   "outputs": [
    {
     "name": "stdout",
     "output_type": "stream",
     "text": [
      "Help on function celsiusToFahr in module __main__:\n",
      "\n",
      "celsiusToFahr(tempCelsius)\n",
      "    This function converts celsius to fahrenheit\n",
      "\n"
     ]
    }
   ],
   "source": [
    "help(celsiusToFahr)"
   ]
  },
  {
   "cell_type": "markdown",
   "metadata": {
    "colab_type": "text",
    "id": "wMn-M9qCAcCA",
    "slideshow": {
     "slide_type": "fragment"
    }
   },
   "source": [
    "If you define a docstring for all of your functions, it makes it easier for other people to use them since they can get help on the arguments and return values of the function.\n",
    "\n",
    "Next, note that rather than commenting on what input values lead to errors, we have some testing of these values, followed by a warning if the value is invalid, and some conditional code to handle exceptional cases."
   ]
  },
  {
   "cell_type": "markdown",
   "metadata": {},
   "source": [
    "---\n",
    "## 3.2. Sharing is caring\n",
    "<a id=\"3.2\">\n"
   ]
  },
  {
   "cell_type": "markdown",
   "metadata": {
    "slideshow": {
     "slide_type": "subslide"
    }
   },
   "source": [
    "- Posting your work in Github will automatically be rendered by **NBviewer**(https://nbviewer.jupyter.org/)\n",
    "\n",
    "- Uploading your work in **Google Colab** can make it sharable immediately (https://colab.research.google.com/)\n",
    "    \n",
    "\n",
    "- Markdown cells can contain embedded links and images\n",
    "\n",
    "Add a link using the following pattern: `[link text](URL_or_relative_path)`\n",
    "gives the clickable link: [Maastricht University](https://www.maastrichtuniversity.nl).\n",
    "\n",
    "Add an image using the following pattern: `![image alt text](URL_or_path)`\n",
    " embeds the following image: ![UM logo](https://logos-download.com/wp-content/uploads/2017/11/Maastricht_University_logo.png)"
   ]
  },
  {
   "cell_type": "markdown",
   "metadata": {
    "slideshow": {
     "slide_type": "subslide"
    }
   },
   "source": [
    "- Markdown cells can include Latex Expressions\n",
    "\n",
    "Mathematical expessions can be rendered inline by wrapping a LaTeX expression (no spaces) with a $ either side.\n",
    "\n",
    "For example, `$e^x=\\sum_{i=0}^\\infty \\frac{1}{i!}x^i$` is rendered as the inline $e^x=\\sum_{i=0}^\\infty \\frac{1}{i!}x^i$ expression.\n",
    "\n",
    "Wrapping the expression with `$$` either side forces it to be rendered on a new line in the centre of the cell: $$e^x=\\sum_{i=0}^\\infty \\frac{1}{i!}x^i$$"
   ]
  },
  {
   "cell_type": "markdown",
   "metadata": {
    "slideshow": {
     "slide_type": "slide"
    }
   },
   "source": [
    "- Checking Reproducibility\n",
    "\n",
    "One of the aims of using notebooks is to produce an executable document that can be rerun to reproduce the results.\n",
    "\n",
    "To run cells from scratch (i.e. from a fresh kernel), `Kernel -> Restart and Clear Output` and then run the cells you want.\n",
    "\n",
    "To run all the cells in the notebook from scratch: `Kernel -> Restart and Run All`"
   ]
  },
  {
   "cell_type": "markdown",
   "metadata": {
    "slideshow": {
     "slide_type": "subslide"
    }
   },
   "source": [
    "- Licensing\n",
    "\n",
    "[Attribution 4.0 International (CC BY 4.0)](https://creativecommons.org/licenses/by/4.0/)  \n",
    "More info: https://reproducible-science-curriculum.github.io/sharing-RR-Jupyter/LICENSE.html"
   ]
  },
  {
   "cell_type": "markdown",
   "metadata": {},
   "source": [
    "---"
   ]
  },
  {
   "cell_type": "markdown",
   "metadata": {},
   "source": [
    "## EXERCISES"
   ]
  },
  {
   "cell_type": "markdown",
   "metadata": {},
   "source": [
    "+ _1. Start with a simple function.   \n",
    "\n",
    "    This function shall be able to add 100 to a given X value.   \n",
    "    Fill the blanks and test it.\n",
    "\n",
    "```Python\n",
    "def adding100(x):\n",
    "    value = x + _____\n",
    "    return _____   \n",
    "```\n"
   ]
  },
  {
   "cell_type": "markdown",
   "metadata": {},
   "source": [
    "+ _2. Reusing an existing function.\n",
    "\n",
    "    In section 3.1 of this notebook, we have created a function to convert Celsius to Fahrenheit and we called it `celsiusToFahr()`.  \n",
    "    \n",
    "    Let’s now create a second function called `kelvinsToCelsius()`   \n",
    "    Fill the blanks and test it.\n",
    "    \n",
    "```Python\n",
    "___ kelvinsToCelsius(tempKelvins):\n",
    "    return tempKelvins ______\n",
    "```\n",
    "   "
   ]
  },
  {
   "cell_type": "markdown",
   "metadata": {
    "slideshow": {
     "slide_type": "fragment"
    }
   },
   "source": [
    "- Having the new function `kelvinsToCelsius`, we could now use it in the same way as in the example of section 3.1\n",
    "\n",
    "```Python\n",
    "\n",
    "absoluteZero = kelvinsToCelsius(tempKelvins=0)\n",
    "\n",
    "print('Absolute zero in Celsius is:', absoluteZero)\n",
    "\n",
    "```"
   ]
  },
  {
   "cell_type": "markdown",
   "metadata": {
    "slideshow": {
     "slide_type": "subslide"
    }
   },
   "source": [
    "- What is next?  \n",
    "Let's now try to convert Kelvins to Fahrenheit. We could write out a new formula for it, but perhaps we don't need to.    \n",
    "Instead, we can do the conversion using the two functions existing functions `celsiusToFahr()` and `kelvinsToCelsius()` and create a new function reusing those previous calculations\n",
    "\n",
    "```Python\n",
    "def kelvinsToFahrenheit(______):\n",
    "    '''This function converts kelvin to fahrenheit'''\n",
    "    ______\n",
    "    ______\n",
    "    return ______\n",
    "```"
   ]
  },
  {
   "cell_type": "markdown",
   "metadata": {
    "slideshow": {
     "slide_type": "subslide"
    }
   },
   "source": [
    "- Having the new function `kelvinsToFahrenheit()`, we could now use it "
   ]
  },
  {
   "cell_type": "markdown",
   "metadata": {
    "slideshow": {
     "slide_type": "fragment"
    }
   },
   "source": [
    "``` Python\n",
    "absoluteZeroF = kelvinsToFahrenheit(tempKelvins=0)\n",
    "\n",
    "print('Absolute zero in Fahrenheit is:', absoluteZeroF)\n",
    "```"
   ]
  },
  {
   "cell_type": "markdown",
   "metadata": {},
   "source": [
    "+ _3. Add a new cell below and add a License to your notebook. (Check section 3.2)  \n",
    "    Upload your finalized notebook to Google Colab for you to share with others"
   ]
  }
 ],
 "metadata": {
  "celltoolbar": "Slideshow",
  "colab": {
   "collapsed_sections": [],
   "name": "1st Block (Intro DS with Python).ipynb",
   "provenance": [],
   "toc_visible": true,
   "version": "0.3.2"
  },
  "kernelspec": {
   "display_name": "Python 3",
   "language": "python",
   "name": "python3"
  },
  "language_info": {
   "codemirror_mode": {
    "name": "ipython",
    "version": 3
   },
   "file_extension": ".py",
   "mimetype": "text/x-python",
   "name": "python",
   "nbconvert_exporter": "python",
   "pygments_lexer": "ipython3",
   "version": "3.8.8"
  }
 },
 "nbformat": 4,
 "nbformat_minor": 4
}
