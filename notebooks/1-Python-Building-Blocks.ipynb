{
 "cells": [
  {
   "cell_type": "markdown",
   "metadata": {
    "slideshow": {
     "slide_type": "slide"
    }
   },
   "source": [
    "## Coding Basics for Researchers - Day 1\n",
    "\n",
    "*Notebook by [Pedro V Hernandez Serrano](https://github.com/pedrohserrano)*\n"
   ]
  },
  {
   "cell_type": "markdown",
   "metadata": {
    "slideshow": {
     "slide_type": "-"
    }
   },
   "source": [
    "---\n",
    "# 1. Python Building Blocks\n",
    "* [1.1. Python Basic Commands](#1.1)\n",
    "* [1.2. Strings](#1.2)\n",
    "* [1.3. Lists](#1.3)\n",
    "\n",
    "---"
   ]
  },
  {
   "cell_type": "markdown",
   "metadata": {
    "colab_type": "text",
    "id": "d8t-lKtiC1yK",
    "slideshow": {
     "slide_type": "subslide"
    }
   },
   "source": [
    "Guido van rossum | Monty python\n",
    "- | - \n",
    "![](https://gvanrossum.github.io/images/guido-portrait-dan-stroud.jpg) | ![](https://upload.wikimedia.org/wikipedia/en/c/cd/Monty_Python%27s_Flying_Circus_Title_Card.png)\n"
   ]
  },
  {
   "cell_type": "markdown",
   "metadata": {
    "colab_type": "text",
    "id": "AQVZze64Ans9",
    "slideshow": {
     "slide_type": "subslide"
    }
   },
   "source": [
    "## A bit of history\n",
    "\n",
    "#### Python starts with ABC.\n",
    "\n",
    "- ABC is a general-purpose programming language and programming \n",
    "environment, which had been developed in the Netherlands, Amsterdam, at \n",
    "the CWI (Centrum Wiskunde & Informatica).\n",
    "\n",
    "- The most significant achievement of ABC was to influence the design of Python.  \n",
    "He emphasizes the DRY (Don't Repeat Yourself) principle and readability.\n",
    "\n",
    "- Python was conceptualized in the late 1980s. Guido van Rossum worked that \n",
    "time in a project at the CWI, called Amoeba, a distributed operating system.\n",
    "\n",
    "- Python was designed as a simple scripting language that possessed some of \n",
    "ABC's better properties, but without its problems.\n",
    "\n",
    "-  So, what about the name \"Python\": Most people think about snakes, but the name has something to do with excellent British humour. A show called Monty Python's Flying Circus was the culprit."
   ]
  },
  {
   "cell_type": "markdown",
   "metadata": {
    "colab_type": "text",
    "id": "oQq3dSxW9yq5",
    "slideshow": {
     "slide_type": "skip"
    }
   },
   "source": [
    "## Tutorials for Learning Python\n",
    "    \n",
    "- [Codecademy](https://www.codecademy.com/tracks/python) is great for beginner levels.\n",
    "- There is also the [Official Beginners Guide](https://wiki.python.org/moin/BeginnersGuide).\n",
    "- [Learn Python the Hard Way](https://learnpythonthehardway.org/book/) is a great tutorial for a more in-depth overview.\n",
    "    - It isn't particularly hard, although note that the currently available version is in Python2. \\n\",\n",
    "- [Whirlwind Tour of Python](https://github.com/jakevdp/WhirlwindTourOfPython) is a free collection of Jupyter notebooks that takes you through Python. \n",
    " - [Leet Code](https://leetcode.com/) is a place for more intense technical coding questions and challenges (geared towards industry interviews)."
   ]
  },
  {
   "cell_type": "markdown",
   "metadata": {
    "colab_type": "text",
    "id": "PTCuroRoxN5r",
    "slideshow": {
     "slide_type": "subslide"
    }
   },
   "source": [
    "## Getting Un-Stuck\n",
    "At some point, you will get stuck. It happens. The internet is your friend.\n",
    "    \n",
    "If you get an error or aren't sure how to proceed, use {your favourite search engine} with specific search terms relating to what you are trying to do. Sometimes this means searching for the error that you got.\n",
    "   \n",
    "You will likely find responses on [StackOverflow](https://stackoverflow.com), a forum for programming questions and an excellent place to find answers."
   ]
  },
  {
   "cell_type": "markdown",
   "metadata": {
    "slideshow": {
     "slide_type": "subslide"
    }
   },
   "source": [
    "## Managing Cells in the Notebooks\n",
    "\n",
    "__Add__ a new cell to the notebook by:\n",
    " - click the + button on the toolbar\n",
    " - `Insert -> Insert Cell Above` or `ESC-A`\n",
    " - `Insert -> Insert Cell Below` or `ESC-B`\n",
    " \n",
    "__Delete__ a cell by selecting it and:\n",
    " - click the scissors button on the toolbar\n",
    " - `Edit -> Delete cells` or `ESC-DD`\n",
    "\n",
    "__Undelete__ the last deleted cell:\n",
    "- `Edit -> Undo Delete cells` or `ESC-Z`\n",
    "\n",
    "Each cell has a __cell history__ associated with it. Use `CMD-Z` to step back through previous cell contents.\n",
    " \n",
    "__Reorder__ cells by:\n",
    "- moving them up and down the notebook using the up and down arrows on the toolbar\n",
    "- `Edit -> Move Cell Up` or `Edit -> Move Cell Down` \n",
    "- cutting and pasting them:\n",
    " - `Edit - >Cut` or `Edit->Paste Cells Above` or `Edit->Paste Cells Below`\n",
    " - on the toolbar, `Cut selected cells` then `Paste selected cells`\n",
    "\n",
    "Copy and cut selected cells from the toolbar:\n",
    "- `Edit -> Copy Cells` or `ESC-C`.\n",
    "- `Edit -> Cut Cells` or `ESC-X`."
   ]
  },
  {
   "cell_type": "markdown",
   "metadata": {
    "colab_type": "text",
    "id": "mLAKcxW-58aw",
    "slideshow": {
     "slide_type": "subslide"
    }
   },
   "source": [
    "## Packages\n",
    "\n",
    "Packages are just collections of code. The anaconda distribution comes with all the core packages you will need for this class. \n",
    "  \n",
    "For getting other packages, anaconda comes with\n",
    "    <a href=\"https://conda.io/docs/using/pkgs.html\" class=\"alert-link\">conda</a>\n",
    "    a package manager, with support for downloading and installing other packages."
   ]
  },
  {
   "cell_type": "markdown",
   "metadata": {
    "slideshow": {
     "slide_type": "slide"
    }
   },
   "source": [
    "---\n",
    "## 1.1. Python basic commands\n",
    "<a id=\"1.1\">"
   ]
  },
  {
   "cell_type": "markdown",
   "metadata": {
    "colab_type": "text",
    "id": "UeW9owvXAb4j",
    "slideshow": {
     "slide_type": "fragment"
    }
   },
   "source": [
    "Many of the things I used to use a calculator for, I now use Python for:"
   ]
  },
  {
   "cell_type": "code",
   "execution_count": 1,
   "metadata": {
    "colab": {},
    "colab_type": "code",
    "id": "CGaW6eDGAb4o",
    "outputId": "39f85b47-7dad-4f99-d243-3a471fbd3b26",
    "slideshow": {
     "slide_type": "fragment"
    }
   },
   "outputs": [
    {
     "data": {
      "text/plain": [
       "4"
      ]
     },
     "execution_count": 1,
     "metadata": {},
     "output_type": "execute_result"
    }
   ],
   "source": [
    "2+2"
   ]
  },
  {
   "cell_type": "code",
   "execution_count": 2,
   "metadata": {
    "colab": {},
    "colab_type": "code",
    "id": "EkLieN03Ab5C",
    "outputId": "540abe03-a186-42fa-e1c7-36700e00f842",
    "slideshow": {
     "slide_type": "fragment"
    }
   },
   "outputs": [
    {
     "data": {
      "text/plain": [
       "5.0"
      ]
     },
     "execution_count": 2,
     "metadata": {},
     "output_type": "execute_result"
    }
   ],
   "source": [
    "(50-5*6)/4"
   ]
  },
  {
   "cell_type": "markdown",
   "metadata": {
    "colab_type": "text",
    "id": "TwzIYfqxAb5Q",
    "slideshow": {
     "slide_type": "subslide"
    }
   },
   "source": [
    "There are some gotchas compared to using a normal calculator."
   ]
  },
  {
   "cell_type": "code",
   "execution_count": 3,
   "metadata": {
    "colab": {},
    "colab_type": "code",
    "id": "n6ywrBdkAb5V",
    "outputId": "a8cca7ea-fb47-4c07-bf56-96adca46fac1",
    "slideshow": {
     "slide_type": "fragment"
    }
   },
   "outputs": [
    {
     "data": {
      "text/plain": [
       "2.3333333333333335"
      ]
     },
     "execution_count": 3,
     "metadata": {},
     "output_type": "execute_result"
    }
   ],
   "source": [
    "7/3"
   ]
  },
  {
   "cell_type": "markdown",
   "metadata": {
    "colab_type": "text",
    "id": "_tDkkfN3Ab5t",
    "slideshow": {
     "slide_type": "fragment"
    }
   },
   "source": [
    "Alternatively, you can convert one of the integers to a floating point number, in which case the division function returns another floating point number."
   ]
  },
  {
   "cell_type": "code",
   "execution_count": 4,
   "metadata": {
    "colab": {},
    "colab_type": "code",
    "id": "OFMXk4AHAb5v",
    "outputId": "81764bce-7b76-441a-f1dd-a8a99cbebbda",
    "slideshow": {
     "slide_type": "fragment"
    }
   },
   "outputs": [
    {
     "data": {
      "text/plain": [
       "2.3333333333333335"
      ]
     },
     "execution_count": 4,
     "metadata": {},
     "output_type": "execute_result"
    }
   ],
   "source": [
    "7/3.0"
   ]
  },
  {
   "cell_type": "code",
   "execution_count": 5,
   "metadata": {
    "colab": {},
    "colab_type": "code",
    "id": "p2Hj-e6lAb56",
    "outputId": "492fe5ae-2ada-4b2f-cace-5a00216714b4",
    "slideshow": {
     "slide_type": "fragment"
    }
   },
   "outputs": [
    {
     "data": {
      "text/plain": [
       "2.3333333333333335"
      ]
     },
     "execution_count": 5,
     "metadata": {},
     "output_type": "execute_result"
    }
   ],
   "source": [
    "7/float(3)"
   ]
  },
  {
   "cell_type": "markdown",
   "metadata": {},
   "source": [
    "Checking the datatype"
   ]
  },
  {
   "cell_type": "code",
   "execution_count": 6,
   "metadata": {},
   "outputs": [
    {
     "data": {
      "text/plain": [
       "float"
      ]
     },
     "execution_count": 6,
     "metadata": {},
     "output_type": "execute_result"
    }
   ],
   "source": [
    "type(7/3)"
   ]
  },
  {
   "cell_type": "markdown",
   "metadata": {
    "colab_type": "text",
    "id": "hEB9A8VuAb6J",
    "slideshow": {
     "slide_type": "subslide"
    }
   },
   "source": [
    "In the last few lines, we have sped by many things that we should stop for a moment and explore a little more thoroughly. We've seen, however briefly, two different data types: \n",
    "- **integers**, also known as *whole numbers* to the non-programming world, and \n",
    "- **floating-point numbers**, also known as *decimal numbers* to the rest of the world.\n"
   ]
  },
  {
   "cell_type": "markdown",
   "metadata": {},
   "source": [
    "But also important is not only to do calculations but assign values \n",
    "- **Variables** are names for values.\n",
    "- In Python, the `=` symbol assigns the value on the right to the name on the left. (Similar to `<-` in R)\n",
    "- The variables are created when a value is assigned to them."
   ]
  },
  {
   "cell_type": "code",
   "execution_count": 11,
   "metadata": {
    "colab": {},
    "colab_type": "code",
    "id": "KY6kd6WtAb65",
    "outputId": "053123e5-71a5-47c8-b5fc-447388b4e41e",
    "slideshow": {
     "slide_type": "subslide"
    }
   },
   "outputs": [],
   "source": [
    "width = 20\n",
    "length = 30\n",
    "area = length*width"
   ]
  },
  {
   "cell_type": "code",
   "execution_count": 12,
   "metadata": {},
   "outputs": [
    {
     "name": "stdout",
     "output_type": "stream",
     "text": [
      "600\n"
     ]
    }
   ],
   "source": [
    "print(area)"
   ]
  },
  {
   "cell_type": "markdown",
   "metadata": {
    "colab_type": "text",
    "id": "GrYyGiJwAb7J",
    "slideshow": {
     "slide_type": "subslide"
    }
   },
   "source": [
    "However, if you try to access a variable that you haven't yet defined, you will get an error:"
   ]
  },
  {
   "cell_type": "markdown",
   "metadata": {
    "colab": {},
    "colab_type": "code",
    "id": "rJXknWO-Ab7N",
    "outputId": "b69a8429-e08e-40f0-dee1-007edbaa26e1",
    "slideshow": {
     "slide_type": "fragment"
    }
   },
   "source": [
    "\n",
    "```Python\n",
    "> volume\n",
    "```\n",
    "\n",
    "```Python\n",
    "---------------------------------------------------------------------------\n",
    "NameError                                 Traceback (most recent call last)\n",
    "<ipython-input-7-6211527fe2c2> in <module>\n",
    "----> 1 volume\n",
    "\n",
    "NameError: name 'volume' is not defined\n",
    "```\n",
    "\n"
   ]
  },
  {
   "cell_type": "markdown",
   "metadata": {},
   "source": [
    "Variables must be created before they are used"
   ]
  },
  {
   "cell_type": "code",
   "execution_count": 13,
   "metadata": {
    "colab": {},
    "colab_type": "code",
    "id": "ErwQvKqVAb7o",
    "slideshow": {
     "slide_type": "subslide"
    }
   },
   "outputs": [],
   "source": [
    "depth = 10\n",
    "volume = area*depth"
   ]
  },
  {
   "cell_type": "code",
   "execution_count": 14,
   "metadata": {},
   "outputs": [
    {
     "name": "stdout",
     "output_type": "stream",
     "text": [
      "6000\n"
     ]
    }
   ],
   "source": [
    "print(volume)"
   ]
  },
  {
   "cell_type": "markdown",
   "metadata": {
    "colab_type": "text",
    "id": "l29uj5JEAb7z",
    "slideshow": {
     "slide_type": "subslide"
    }
   },
   "source": [
    "You can name a variable *almost* anything you want. It needs to start with an alphabetical character or \"\\_\", which can contain alphanumeric characters plus underscores (\"\\_\"). Certain words, however, are reserved for the language:\n",
    "\n",
    "    and, as, assert, break, class, continue, def, del, elif, else, except, \n",
    "    exec, finally, for, from, global, if, import, in, is, lambda, not, or,\n",
    "    pass, print, raise, return, try, while, with, yield\n",
    "\n",
    "Trying to define a variable using one of these will result in a syntax error:"
   ]
  },
  {
   "cell_type": "markdown",
   "metadata": {
    "colab": {},
    "colab_type": "code",
    "id": "7lFfDla3Ab72",
    "outputId": "7452a9cb-189d-40b6-c6cc-631911f82130",
    "slideshow": {
     "slide_type": "fragment"
    }
   },
   "source": [
    "```Python\n",
    "return = 0\n",
    "\n",
    "File \"<ipython-input-12-c7a05f6eb55e>\", line 1\n",
    "    return = 0\n",
    "           ^\n",
    "SyntaxError: invalid syntax\n",
    "```"
   ]
  },
  {
   "cell_type": "markdown",
   "metadata": {
    "colab_type": "text",
    "id": "WxMo5ZIpAb9K",
    "slideshow": {
     "slide_type": "skip"
    }
   },
   "source": [
    "The [Python Tutorial](http://docs.python.org/2/tutorial/introduction.html#using-python-as-a-calculator) has more on using Python as an interactive shell. The [IPython tutorial](http://ipython.org/ipython-doc/dev/interactive/tutorial.html) makes an excellent complement to this since IPython has a much more sophisticated interactive shell."
   ]
  },
  {
   "cell_type": "markdown",
   "metadata": {
    "colab_type": "text",
    "id": "kulUahTLAb9L",
    "slideshow": {
     "slide_type": "slide"
    }
   },
   "source": [
    "---\n",
    "## 1.2. Strings\n",
    "<a id=\"1.2\">"
   ]
  },
  {
   "cell_type": "markdown",
   "metadata": {},
   "source": [
    "Strings are lists of printable characters and can be defined using either single quote."
   ]
  },
  {
   "cell_type": "code",
   "execution_count": 15,
   "metadata": {
    "colab": {},
    "colab_type": "code",
    "id": "Huiims_YAb9N",
    "outputId": "7a8cbb3c-5f06-4323-bce5-66fe9e6bb947",
    "slideshow": {
     "slide_type": "subslide"
    }
   },
   "outputs": [
    {
     "data": {
      "text/plain": [
       "'Hello, Maastricht!'"
      ]
     },
     "execution_count": 15,
     "metadata": {},
     "output_type": "execute_result"
    }
   ],
   "source": [
    "'Hello, Maastricht!'"
   ]
  },
  {
   "cell_type": "markdown",
   "metadata": {
    "colab_type": "text",
    "id": "mRHhfDDwAb9S",
    "slideshow": {
     "slide_type": "fragment"
    }
   },
   "source": [
    "or double quotes"
   ]
  },
  {
   "cell_type": "code",
   "execution_count": 16,
   "metadata": {
    "colab": {},
    "colab_type": "code",
    "id": "kp8ZeljaAb9T",
    "outputId": "05bdb5af-d21b-439d-a548-ea11a28cae33",
    "slideshow": {
     "slide_type": "fragment"
    }
   },
   "outputs": [
    {
     "data": {
      "text/plain": [
       "'Hello, Maastricht!'"
      ]
     },
     "execution_count": 16,
     "metadata": {},
     "output_type": "execute_result"
    }
   ],
   "source": [
    "\"Hello, Maastricht!\""
   ]
  },
  {
   "cell_type": "markdown",
   "metadata": {
    "colab_type": "text",
    "id": "LPzF8gYSAb9Y",
    "slideshow": {
     "slide_type": "fragment"
    }
   },
   "source": [
    "But not both at the same time, unless you want one of the symbols to be part of the string."
   ]
  },
  {
   "cell_type": "code",
   "execution_count": 17,
   "metadata": {
    "colab": {},
    "colab_type": "code",
    "id": "7MSFeRxfAb9a",
    "outputId": "3990467c-2f4b-402e-8424-69bdaab25382",
    "slideshow": {
     "slide_type": "fragment"
    }
   },
   "outputs": [
    {
     "data": {
      "text/plain": [
       "\"She's a Researcher\""
      ]
     },
     "execution_count": 17,
     "metadata": {},
     "output_type": "execute_result"
    }
   ],
   "source": [
    "\"She's a Researcher\""
   ]
  },
  {
   "cell_type": "code",
   "execution_count": 18,
   "metadata": {
    "colab": {},
    "colab_type": "code",
    "id": "v4nmD3wHAb9j",
    "outputId": "29c2e1d3-a1cc-4e31-98be-fad9956c8324",
    "slideshow": {
     "slide_type": "subslide"
    }
   },
   "outputs": [
    {
     "data": {
      "text/plain": [
       "'She asked, \"How are you today?\"'"
      ]
     },
     "execution_count": 18,
     "metadata": {},
     "output_type": "execute_result"
    }
   ],
   "source": [
    "'She asked, \"How are you today?\"'"
   ]
  },
  {
   "cell_type": "markdown",
   "metadata": {
    "colab_type": "text",
    "id": "Z_Uw1mYwAb9p",
    "slideshow": {
     "slide_type": "fragment"
    }
   },
   "source": [
    "Just like the other two data objects we're familiar with (ints and floats), you can assign a string to a variable."
   ]
  },
  {
   "cell_type": "code",
   "execution_count": 19,
   "metadata": {
    "colab": {},
    "colab_type": "code",
    "id": "2SiuAI-FAb9q",
    "slideshow": {
     "slide_type": "fragment"
    }
   },
   "outputs": [],
   "source": [
    "greeting = \"Hello, Maastricht! \""
   ]
  },
  {
   "cell_type": "code",
   "execution_count": 20,
   "metadata": {},
   "outputs": [],
   "source": [
    "subject = \"She's a Researcher\""
   ]
  },
  {
   "cell_type": "markdown",
   "metadata": {
    "colab_type": "text",
    "id": "lSwbMY9bAb91",
    "slideshow": {
     "slide_type": "subslide"
    }
   },
   "source": [
    "The **print** statement is often used for printing character strings:"
   ]
  },
  {
   "cell_type": "code",
   "execution_count": 21,
   "metadata": {},
   "outputs": [
    {
     "name": "stdout",
     "output_type": "stream",
     "text": [
      "Hello, Maastricht! She's a Researcher\n"
     ]
    }
   ],
   "source": [
    "example_text = greeting + subject\n",
    "\n",
    "print(example_text)"
   ]
  },
  {
   "cell_type": "code",
   "execution_count": 22,
   "metadata": {},
   "outputs": [
    {
     "data": {
      "text/plain": [
       "str"
      ]
     },
     "execution_count": 22,
     "metadata": {},
     "output_type": "execute_result"
    }
   ],
   "source": [
    "type(example_text)"
   ]
  },
  {
   "cell_type": "markdown",
   "metadata": {},
   "source": [
    "Use an index to get a single character from a string.\n",
    "* The characters (individual letters, numbers) in a string are ordered/indexed. We can therefore treat the string as a list of characters.\n",
    "* Each position in the string is given a number called **index**.\n",
    "* Indices are numbered from 0.\n",
    "* Use the position's index in square brackets to get the character at that position.\n",
    "\n",
    "![](https://swcarpentry.github.io/python-novice-gapminder/fig/2_indexing.svg)"
   ]
  },
  {
   "cell_type": "code",
   "execution_count": 23,
   "metadata": {},
   "outputs": [
    {
     "name": "stdout",
     "output_type": "stream",
     "text": [
      "h\n"
     ]
    }
   ],
   "source": [
    "# assign variable \n",
    "atom_name = \"helium\"\n",
    "\n",
    "#print index 0 position\n",
    "print(atom_name[0])"
   ]
  },
  {
   "cell_type": "markdown",
   "metadata": {},
   "source": [
    "Use a slice to get a substring.\n",
    "\n",
    "* A part of a string is called a substring. A substring can be as short as a single character.\n",
    "* An item in a list is called an element. Therefore, whenever we treat a string as if it were a list, the string’s elements are its characters.\n",
    "* A slice is a part of a string.\n",
    "* We take a slice by using `[start:stop]`, where `start` is replaced with the index of the first element we want and `stop` is replaced with the element index just after the last element we want.\n"
   ]
  },
  {
   "cell_type": "code",
   "execution_count": 24,
   "metadata": {},
   "outputs": [
    {
     "name": "stdout",
     "output_type": "stream",
     "text": [
      "Hello\n"
     ]
    }
   ],
   "source": [
    "# print name and substring first 3 characters\n",
    "print(example_text[0:5])"
   ]
  },
  {
   "cell_type": "markdown",
   "metadata": {
    "colab_type": "text",
    "id": "ZcYHD_MIAb-B",
    "slideshow": {
     "slide_type": "fragment"
    }
   },
   "source": [
    "But it can also print data types, separating by commas:"
   ]
  },
  {
   "cell_type": "code",
   "execution_count": 25,
   "metadata": {
    "colab": {},
    "colab_type": "code",
    "id": "y6wDWu7JAb-D",
    "outputId": "d948e850-409c-47fb-9422-726c918fc443",
    "scrolled": true,
    "slideshow": {
     "slide_type": "fragment"
    },
    "tags": []
   },
   "outputs": [
    {
     "name": "stdout",
     "output_type": "stream",
     "text": [
      "The area is  600 6000 10 20 Hello, Maastricht! She's a Researcher\n"
     ]
    }
   ],
   "source": [
    "print (\"The area is \",area, volume, 10, 5*4, example_text)"
   ]
  },
  {
   "cell_type": "markdown",
   "metadata": {
    "slideshow": {
     "slide_type": "subslide"
    }
   },
   "source": [
    "Also possible with the format method"
   ]
  },
  {
   "cell_type": "code",
   "execution_count": 26,
   "metadata": {
    "slideshow": {
     "slide_type": "fragment"
    }
   },
   "outputs": [
    {
     "name": "stdout",
     "output_type": "stream",
     "text": [
      "The area is 600 and volume is 6000\n"
     ]
    }
   ],
   "source": [
    "print (\"The area is {} and volume is {}\".format(area, volume))"
   ]
  },
  {
   "cell_type": "markdown",
   "metadata": {
    "colab_type": "text",
    "id": "GwpU8t5cAb-H",
    "slideshow": {
     "slide_type": "subslide"
    }
   },
   "source": [
    "In the above snippet, the number 600 (stored in the variable \"area\") is converted into a string before being printed out."
   ]
  },
  {
   "cell_type": "markdown",
   "metadata": {
    "colab_type": "text",
    "id": "S0m9ab-CAb-b",
    "slideshow": {
     "slide_type": "fragment"
    }
   },
   "source": [
    "If you have a lot of words to concatenate together, there are other, more efficient ways to do this. But this is fine for linking a few strings together."
   ]
  },
  {
   "cell_type": "code",
   "execution_count": 27,
   "metadata": {
    "slideshow": {
     "slide_type": "fragment"
    }
   },
   "outputs": [
    {
     "data": {
      "text/plain": [
       "37"
      ]
     },
     "execution_count": 27,
     "metadata": {},
     "output_type": "execute_result"
    }
   ],
   "source": [
    "# Number of characters in the text\n",
    "len(example_text) "
   ]
  },
  {
   "cell_type": "markdown",
   "metadata": {},
   "source": [
    "Use `split` method to get the individual words"
   ]
  },
  {
   "cell_type": "code",
   "execution_count": 28,
   "metadata": {
    "slideshow": {
     "slide_type": "fragment"
    }
   },
   "outputs": [],
   "source": [
    "split_text = example_text.split(' ') # Return a list of the words in text2, separating by ' '."
   ]
  },
  {
   "cell_type": "code",
   "execution_count": 29,
   "metadata": {},
   "outputs": [
    {
     "name": "stdout",
     "output_type": "stream",
     "text": [
      "['Hello,', 'Maastricht!', \"She's\", 'a', 'Researcher']\n"
     ]
    }
   ],
   "source": [
    "print(split_text)"
   ]
  },
  {
   "cell_type": "code",
   "execution_count": 30,
   "metadata": {
    "slideshow": {
     "slide_type": "fragment"
    }
   },
   "outputs": [
    {
     "data": {
      "text/plain": [
       "5"
      ]
     },
     "execution_count": 30,
     "metadata": {},
     "output_type": "execute_result"
    }
   ],
   "source": [
    "len(split_text)"
   ]
  },
  {
   "cell_type": "markdown",
   "metadata": {
    "slideshow": {
     "slide_type": "subslide"
    }
   },
   "source": [
    "More advanced functionalities allow us to find different types of words"
   ]
  },
  {
   "cell_type": "code",
   "execution_count": 31,
   "metadata": {
    "slideshow": {
     "slide_type": "fragment"
    }
   },
   "outputs": [
    {
     "data": {
      "text/plain": [
       "[\"She's\", 'a']"
      ]
     },
     "execution_count": 31,
     "metadata": {},
     "output_type": "execute_result"
    }
   ],
   "source": [
    "[w for w in split_text if len(w) < 6] # Words that are greater than 3 characteres long in text2"
   ]
  },
  {
   "cell_type": "code",
   "execution_count": 32,
   "metadata": {
    "slideshow": {
     "slide_type": "fragment"
    }
   },
   "outputs": [
    {
     "data": {
      "text/plain": [
       "['Hello,', 'Maastricht!', 'Researcher']"
      ]
     },
     "execution_count": 32,
     "metadata": {},
     "output_type": "execute_result"
    }
   ],
   "source": [
    "[w for w in split_text if w.istitle()] # Capitalized words in text2"
   ]
  },
  {
   "cell_type": "code",
   "execution_count": 33,
   "metadata": {
    "slideshow": {
     "slide_type": "fragment"
    }
   },
   "outputs": [
    {
     "data": {
      "text/plain": [
       "['Maastricht!']"
      ]
     },
     "execution_count": 33,
     "metadata": {},
     "output_type": "execute_result"
    }
   ],
   "source": [
    "[w for w in split_text if w.endswith('!')] # Words in text2 that end in 's'"
   ]
  },
  {
   "cell_type": "markdown",
   "metadata": {},
   "source": [
    "All the tricks could be used for:\n",
    "- Data cleaning of clinical records\n",
    "- Text analysis on policy documents\n",
    "- Data analysis of gene sequence\n",
    "- ...etc."
   ]
  },
  {
   "cell_type": "markdown",
   "metadata": {
    "colab_type": "text",
    "id": "yMQu5I9tAb-b",
    "slideshow": {
     "slide_type": "slide"
    }
   },
   "source": [
    "---\n",
    "## 1.3. Lists\n",
    "<a id=\"1.3\">"
   ]
  },
  {
   "cell_type": "markdown",
   "metadata": {},
   "source": [
    "Very often, in a programming language, one wants to keep a group of similar items together. \n",
    "The object we used in the above example is a Python data type called **lists**."
   ]
  },
  {
   "cell_type": "code",
   "execution_count": 34,
   "metadata": {
    "colab": {},
    "colab_type": "code",
    "id": "pzg8302wAb-d",
    "slideshow": {
     "slide_type": "subslide"
    }
   },
   "outputs": [],
   "source": [
    "days_of_the_week = [\"Sunday\",\"Monday\",\"Tuesday\",\"Wednesday\",\"Thursday\",\"Friday\",\"Saturday\"]"
   ]
  },
  {
   "cell_type": "code",
   "execution_count": 35,
   "metadata": {},
   "outputs": [
    {
     "data": {
      "text/plain": [
       "list"
      ]
     },
     "execution_count": 35,
     "metadata": {},
     "output_type": "execute_result"
    }
   ],
   "source": [
    "type(days_of_the_week)"
   ]
  },
  {
   "cell_type": "markdown",
   "metadata": {
    "colab_type": "text",
    "id": "dI9XtQmKAb-f",
    "slideshow": {
     "slide_type": "subslide"
    }
   },
   "source": [
    "You can access members of the list using the **index** of that item:"
   ]
  },
  {
   "cell_type": "code",
   "execution_count": 36,
   "metadata": {
    "colab": {},
    "colab_type": "code",
    "id": "wGoMBXo5Ab-h",
    "outputId": "7b4bc91f-d994-4028-d61b-6861f41af59c",
    "slideshow": {
     "slide_type": "fragment"
    }
   },
   "outputs": [
    {
     "data": {
      "text/plain": [
       "'u'"
      ]
     },
     "execution_count": 36,
     "metadata": {},
     "output_type": "execute_result"
    }
   ],
   "source": [
    "# Index the 3rd element of the list, then\n",
    "# index the 2nd element of the word\n",
    "days_of_the_week[2][1]"
   ]
  },
  {
   "cell_type": "markdown",
   "metadata": {
    "colab_type": "text",
    "id": "Eri-ct7dAb-p",
    "slideshow": {
     "slide_type": "subslide"
    }
   },
   "source": [
    "Python lists, like C, but unlike Fortran, use 0 as the index of the first element of a list. Thus, in this example, the 0 element is \"Sunday\", 1 is \"Monday\", and so on. If you need to access the *n*th element from the end of the list, you can use a negative index. For example, the -1 element of a list is the last element:"
   ]
  },
  {
   "cell_type": "code",
   "execution_count": 37,
   "metadata": {
    "colab": {},
    "colab_type": "code",
    "id": "z43N5fr0Ab-q",
    "outputId": "6765c075-25f7-4df5-aae3-ebe1b30934bc",
    "slideshow": {
     "slide_type": "fragment"
    }
   },
   "outputs": [
    {
     "name": "stdout",
     "output_type": "stream",
     "text": [
      "True\n"
     ]
    }
   ],
   "source": [
    "print(days_of_the_week[-2] == days_of_the_week[5])"
   ]
  },
  {
   "cell_type": "markdown",
   "metadata": {
    "colab_type": "text",
    "id": "ddUWA0M6Ab-y",
    "slideshow": {
     "slide_type": "subslide"
    }
   },
   "source": [
    "You can add additional items to the list using the .append() command:"
   ]
  },
  {
   "cell_type": "code",
   "execution_count": 38,
   "metadata": {
    "colab": {},
    "colab_type": "code",
    "id": "idqtd2BvAb-0",
    "outputId": "863b8152-109e-4a04-fa32-e31d64a131b0",
    "slideshow": {
     "slide_type": "fragment"
    }
   },
   "outputs": [
    {
     "name": "stdout",
     "output_type": "stream",
     "text": [
      "['Java', 'R', 'C++', 'Python']\n"
     ]
    }
   ],
   "source": [
    "# set a list of elements\n",
    "languages = [\"Java\",\"R\",\"C++\"]\n",
    "\n",
    "# append a new element\n",
    "languages.append(\"Python\")\n",
    "\n",
    "# print the object \n",
    "print(languages)"
   ]
  },
  {
   "cell_type": "markdown",
   "metadata": {},
   "source": [
    "We could remove an element"
   ]
  },
  {
   "cell_type": "code",
   "execution_count": 39,
   "metadata": {},
   "outputs": [],
   "source": [
    "languages.remove('Java')"
   ]
  },
  {
   "cell_type": "code",
   "execution_count": 40,
   "metadata": {},
   "outputs": [
    {
     "data": {
      "text/plain": [
       "['R', 'C++', 'Python']"
      ]
     },
     "execution_count": 40,
     "metadata": {},
     "output_type": "execute_result"
    }
   ],
   "source": [
    "languages"
   ]
  },
  {
   "cell_type": "code",
   "execution_count": 41,
   "metadata": {},
   "outputs": [],
   "source": [
    "del languages[-2]"
   ]
  },
  {
   "cell_type": "code",
   "execution_count": 42,
   "metadata": {},
   "outputs": [
    {
     "data": {
      "text/plain": [
       "['R', 'Python']"
      ]
     },
     "execution_count": 42,
     "metadata": {},
     "output_type": "execute_result"
    }
   ],
   "source": [
    "languages"
   ]
  },
  {
   "cell_type": "markdown",
   "metadata": {
    "colab_type": "text",
    "id": "2Lv4FI26Ab-3",
    "slideshow": {
     "slide_type": "subslide"
    }
   },
   "source": [
    "The **range()** command is a convenient way to make sequential lists of numbers:"
   ]
  },
  {
   "cell_type": "code",
   "execution_count": 43,
   "metadata": {
    "colab": {},
    "colab_type": "code",
    "id": "fyMOAO2qAb-5",
    "outputId": "4ea654e3-4a3e-4799-fca2-e2b8068b9b4c",
    "slideshow": {
     "slide_type": "fragment"
    }
   },
   "outputs": [
    {
     "data": {
      "text/plain": [
       "range(0, 10)"
      ]
     },
     "execution_count": 43,
     "metadata": {},
     "output_type": "execute_result"
    }
   ],
   "source": [
    "range(10)"
   ]
  },
  {
   "cell_type": "markdown",
   "metadata": {
    "colab_type": "text",
    "id": "7NyvFawCAb_A",
    "slideshow": {
     "slide_type": "subslide"
    }
   },
   "source": [
    "Note that range(n) starts at 0 and gives the sequential list of integers less than n. If you want to start at a different number, use range(start,stop)"
   ]
  },
  {
   "cell_type": "code",
   "execution_count": 44,
   "metadata": {
    "colab": {},
    "colab_type": "code",
    "id": "47LT5hnEAb_E",
    "outputId": "fc859aea-0f1e-4d3a-e592-24a5a15062f8",
    "slideshow": {
     "slide_type": "fragment"
    }
   },
   "outputs": [
    {
     "data": {
      "text/plain": [
       "[2, 3, 4, 5, 6, 7]"
      ]
     },
     "execution_count": 44,
     "metadata": {},
     "output_type": "execute_result"
    }
   ],
   "source": [
    "list(range(2,8))"
   ]
  },
  {
   "cell_type": "markdown",
   "metadata": {
    "colab_type": "text",
    "id": "YbK6hGlkAb_T",
    "slideshow": {
     "slide_type": "subslide"
    }
   },
   "source": [
    "Lists do not have to hold the same data type. For example,"
   ]
  },
  {
   "cell_type": "code",
   "execution_count": 45,
   "metadata": {
    "colab": {},
    "colab_type": "code",
    "id": "Xicvkk-5Ab_U",
    "outputId": "ca2a0b0e-c82f-4f9f-dea2-f32bb309c5e2",
    "scrolled": true,
    "slideshow": {
     "slide_type": "fragment"
    }
   },
   "outputs": [
    {
     "data": {
      "text/plain": [
       "['Today',\n",
       " 7,\n",
       " 99.3,\n",
       " '',\n",
       " ['R', 'Python'],\n",
       " ['Sunday',\n",
       "  'Monday',\n",
       "  'Tuesday',\n",
       "  'Wednesday',\n",
       "  'Thursday',\n",
       "  'Friday',\n",
       "  'Saturday']]"
      ]
     },
     "execution_count": 45,
     "metadata": {},
     "output_type": "execute_result"
    }
   ],
   "source": [
    "[\"Today\",7,99.3,\"\", languages, days_of_the_week]"
   ]
  },
  {
   "cell_type": "markdown",
   "metadata": {
    "colab_type": "text",
    "id": "OiDYjVgLAb_f",
    "slideshow": {
     "slide_type": "subslide"
    }
   },
   "source": [
    "However, it's good (but not essential) to use lists for similar objects that are somehow logically connected. For example, if you want to group different data types into a composite data object, it's best to use **tuples**, which we will learn below.\n",
    "\n",
    "You can find out how long a list is using the **len()** command:"
   ]
  },
  {
   "cell_type": "code",
   "execution_count": 46,
   "metadata": {
    "colab": {},
    "colab_type": "code",
    "id": "vCCveO2YAb_g",
    "outputId": "c959cdee-9cc9-47f7-ae49-beb4b5a926ec",
    "slideshow": {
     "slide_type": "fragment"
    }
   },
   "outputs": [
    {
     "name": "stdout",
     "output_type": "stream",
     "text": [
      "Help on built-in function len in module builtins:\n",
      "\n",
      "len(obj, /)\n",
      "    Return the number of items in a container.\n",
      "\n"
     ]
    }
   ],
   "source": [
    "help(len)"
   ]
  },
  {
   "cell_type": "markdown",
   "metadata": {
    "colab_type": "text",
    "id": "Nlekb7LAAb_t",
    "slideshow": {
     "slide_type": "slide"
    }
   },
   "source": [
    "- Iteration in Python  \n",
    "One of the most valuable things you can do with lists is to *iterate* them, i.e. to go through each element one at a time. To do this in Python, we use the **for** statement:"
   ]
  },
  {
   "cell_type": "code",
   "execution_count": 47,
   "metadata": {
    "colab": {},
    "colab_type": "code",
    "id": "YPF9ceOVAb_u",
    "outputId": "e12f58e5-aea5-4795-ee96-96640e35e632",
    "slideshow": {
     "slide_type": "subslide"
    }
   },
   "outputs": [
    {
     "name": "stdout",
     "output_type": "stream",
     "text": [
      "Sunday\n",
      "Monday\n",
      "Tuesday\n",
      "Wednesday\n",
      "Thursday\n",
      "Friday\n",
      "Saturday\n"
     ]
    }
   ],
   "source": [
    "for day in days_of_the_week:\n",
    "    print (day)"
   ]
  },
  {
   "cell_type": "markdown",
   "metadata": {
    "colab_type": "text",
    "id": "J5o00lxFAb_x",
    "slideshow": {
     "slide_type": "subslide"
    }
   },
   "source": [
    "This code snippet goes through each element of the list called **days_of_the_week** and assigns it to the variable **day**. Using those variable assignments, it then executes everything in the indented block (in this case, only one line of code, the print statement). When the program has gone through every element of the list, it exists the block.\n",
    "\n",
    "(Almost) every programming language defines blocks of code in some way. In Fortran, one uses END statements (ENDDO, ENDIF, etc.) to define code blocks. In C, C++, and Perl, one uses curly braces {} to define these blocks.\n",
    "\n",
    "Python uses a colon (\":\"), followed by an indentation level to define code blocks. Everything at a higher level of indentation is taken to be in the same block. Thus, in the above example, the block was only a single line, but we could have had longer blocks as well:"
   ]
  },
  {
   "cell_type": "markdown",
   "metadata": {},
   "source": [
    "---"
   ]
  },
  {
   "cell_type": "markdown",
   "metadata": {},
   "source": [
    "## EXERCISES"
   ]
  },
  {
   "cell_type": "markdown",
   "metadata": {},
   "source": [
    "+ _1. Define the variable `a` as `a = 123`\n",
    "    - Say you want to print the second digit of `a`\n",
    "    - What happens if you try to index by calling `a[1]`?_\n",
    "    - Why do you think this happens?\n",
    "    - How could we index the second digit?\n",
    "___"
   ]
  },
  {
   "cell_type": "markdown",
   "metadata": {},
   "source": [
    "+ _2. Based on what we learned, which of the following three options is a better variable name, `m`, `min`, or `minutes`? And why?   \n",
    "Hint: think about the next person that is going to read your code (it can indeed be yourself in the future):_\n",
    "\n",
    "Examples of variable usage:\n",
    "```python\n",
    "1. ts = m * 60 + s\n",
    "2. tot_sec = min * 60 + sec\n",
    "3. total_seconds = minutes * 60 + seconds\n",
    "```\n",
    "\n",
    "___"
   ]
  },
  {
   "cell_type": "markdown",
   "metadata": {},
   "source": [
    "+ _3. What is the error in the code below, and how would you fix it?\n",
    "\n",
    "```python\n",
    "atom_name == 'carbon'\n",
    "print('atom_name is ', atom_name)\n",
    "```\n",
    "___"
   ]
  },
  {
   "cell_type": "markdown",
   "metadata": {},
   "source": [
    "+ _3. Which data type (integer, floating-point number, or character string) would you use to represent the following 5observations?   \n",
    "\n",
    "**Hint:** Try to come up with more than one answer for each.   \n",
    "For example, in # 1, would counting the number of days using floating-points make more sense than using integers?_\n",
    "\n",
    "1. Number of days since the start of the year.\n",
    "2. The serial number of a piece of lab equipment.\n",
    "3. A lab specimen’s age\n",
    "4. Current population of a city.\n",
    "5. Average population of a city over time.\n",
    "\n",
    "---"
   ]
  },
  {
   "cell_type": "markdown",
   "metadata": {},
   "source": [
    "+ _5. Say that you want to select a random character from a string, e.g._\n",
    "```python\n",
    "bases = 'ACTTGCTTGAC'\n",
    "```\n",
    "\n",
    "    + _2.1. Which standard library from the list: [Python Standard Libraries](https://docs.python.org/3/library/) could help you achieve the task?\n",
    "\n",
    "    + _2.2. Once you have selected a library, which function or method would you select to achieve the task? \n",
    "\n",
    "    + _2.3. Try to write a program that uses the function or method you selected; you can use one example provided on the same website.\n",
    "    \n",
    "___"
   ]
  },
  {
   "cell_type": "markdown",
   "metadata": {},
   "source": [
    "+ _6. When a colleague of yours types help(math), Python reports an error:_\n",
    "\n",
    "```python\n",
    "NameError: name `math` is not defined\n",
    "```\n",
    "   \n",
    "   - What does that error mean?\n",
    "   - How would you help?\n",
    "   \n",
    "---"
   ]
  },
  {
   "cell_type": "markdown",
   "metadata": {},
   "source": [
    "+ _7. Given the following:_\n",
    "\n",
    "```python\n",
    "print('string to list:', list('silver'))\n",
    "print('list to string:', ''.join(['g', 'o', 'l', 'd']))\n",
    "```\n",
    "\n",
    "\n",
    "+ What does `list('silver') do?_\n",
    "\n",
    "+ What does the following command `'-'.join(['x', 'y', 'z'])` would generate if you execute it?_\n",
    "\n",
    "+ Give a real example of string concatenation?\n",
    "___"
   ]
  },
  {
   "cell_type": "markdown",
   "metadata": {},
   "source": [
    "+ _8. How many words are in the following text? Use Python to find out:_\n",
    "\n",
    "\n",
    "```Python \n",
    "The future is in Maastricht:\n",
    "UM multidisciplinary collaborations contribute to solving major societal issues within our primary research themes. We develop new methods to make plastics from organic materials, but we also conduct research into migration, and look into methods to get more people interested taking the necessary financial preparations for their retirement. Whenever possible, UM research is translated into economic, financial, or social value. UM participates in centres of excellence, both technological and social, to allow scientific discoveries to be swiftly converted into practical applications. What is more, research is integrated into education at every level. Our educational method, Problem-Based Learning, lays the groundwork for students to embrace research and the scientific method from the very first day of their studies.\n",
    "```"
   ]
  }
 ],
 "metadata": {
  "celltoolbar": "Slideshow",
  "colab": {
   "collapsed_sections": [],
   "name": "1st Block (Intro DS with Python).ipynb",
   "provenance": [],
   "toc_visible": true,
   "version": "0.3.2"
  },
  "kernelspec": {
   "display_name": "Python 3",
   "language": "python",
   "name": "python3"
  },
  "language_info": {
   "codemirror_mode": {
    "name": "ipython",
    "version": 3
   },
   "file_extension": ".py",
   "mimetype": "text/x-python",
   "name": "python",
   "nbconvert_exporter": "python",
   "pygments_lexer": "ipython3",
   "version": "3.8.8"
  }
 },
 "nbformat": 4,
 "nbformat_minor": 4
}
