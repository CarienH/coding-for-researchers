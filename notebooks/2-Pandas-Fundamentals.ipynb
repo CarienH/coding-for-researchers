{
 "cells": [
  {
   "cell_type": "markdown",
   "metadata": {
    "slideshow": {
     "slide_type": "slide"
    }
   },
   "source": [
    "## Coding Basics for Researchers - Day 1\n",
    "\n",
    "*Notebook by [Pedro V Hernandez Serrano](https://github.com/pedrohserrano)*"
   ]
  },
  {
   "cell_type": "markdown",
   "metadata": {
    "slideshow": {
     "slide_type": "-"
    }
   },
   "source": [
    "---\n",
    "# 2. Pandas Fundamentals\n",
    "* [2.1. Dealing with different data sources](#2.1)\n",
    "* [2.2. Data structures](#2.2)\n",
    "\n",
    "---"
   ]
  },
  {
   "cell_type": "markdown",
   "metadata": {},
   "source": [
    "![](../data/assam_1.png)\n",
    "\n",
    "## A research use case\n",
    "\n",
    "#### Insurgency-Civilian Relations & EU Policy\n",
    "\n",
    "- International Relations, Peace and Policy Studies\n",
    "- PhD proposal, S. Roerigh 2020\n",
    "- Understand patterns in international relations and make effective policies and strategic decisions.\n",
    "- Normally: \n",
    "    - is studied the social order, and\n",
    "    - lived experiences of civilians living under rebel rule\n",
    "- Proposed:\n",
    "    - how and when such factors are perceived, discussed and considered in third party policy decisions\n",
    "    - what impact third party policy decisions have on rebel-civilian relations. \n",
    "- It contributes to a critical perspective and discussion on the motivations, interests, effectiveness of third party policymakers"
   ]
  },
  {
   "cell_type": "markdown",
   "metadata": {},
   "source": [
    "---\n",
    "## 2.1. Dealing with different data sources\n",
    "<a id=\"2.1\">"
   ]
  },
  {
   "cell_type": "markdown",
   "metadata": {
    "id": "zNLTL18adQ-Q"
   },
   "source": [
    "* Pandas is a widely-used Python library for handling data, particularly on tabular data.\n",
    "* Borrows many features from R's dataframes:\n",
    "  - Two-dimensional table whose columns have names and potentially have different types of data types/\n",
    "* Load it with `import pandas as pd`. The alias pd is commonly used for Pandas.\n",
    "* Pandas can handle virtually any kind of formats\n",
    "\n",
    "![](https://pandas.pydata.org/docs/_images/02_io_readwrite.svg)"
   ]
  },
  {
   "cell_type": "code",
   "execution_count": 1,
   "metadata": {},
   "outputs": [],
   "source": [
    "import pandas as pd"
   ]
  },
  {
   "cell_type": "code",
   "execution_count": 2,
   "metadata": {
    "colab": {
     "base_uri": "https://localhost:8080/"
    },
    "id": "G6A8J_Lhctt5",
    "outputId": "cc725b62-d6ab-418f-85e0-a265cd687ea9"
   },
   "outputs": [],
   "source": [
    "path = '../data/'"
   ]
  },
  {
   "cell_type": "markdown",
   "metadata": {
    "id": "2rx6etPweG7o"
   },
   "source": [
    "* The columns in a dataframe are the observed variables, and the rows are the observations.\n",
    "* Pandas uses backslash `\\` to show wrapped lines when output is too wide to fit the screen.\n",
    "\n",
    "**File Not Found:**\n",
    "\n",
    "> Our lessons store their data files in a `data` sub-directory, which is why the path to the file is `data/...csv`. If you forget to include `data/` or if you have it but your cope of the file is somewhere else, you will bet a runtime error that ends with a line like this:\n",
    "\n",
    "`ERROR`: _OSError: File b'gapminder_gdp_oceania.csv' does not exist_"
   ]
  },
  {
   "cell_type": "markdown",
   "metadata": {},
   "source": [
    "#### Dataset 1: Reputation of Terror Groups (RTG) Dataset\n",
    "Description: The dataset contains all domestic terrorist groups, defined in Enders et al. (2011) and based on the Global Terrorism Database, with more than 5 terrorist attacks from 1980 to 2011. The data is in group name - year format—the data codes terrorist groups' actions which can build a reputation among constituency and out-group. Researchers can find originally coded variables regarding positive and negative reputation among the audience and existing group-level variables.\n",
    "\n",
    "[Link to data](http://www.efetokdemir.com/data.html)"
   ]
  },
  {
   "cell_type": "code",
   "execution_count": 3,
   "metadata": {},
   "outputs": [],
   "source": [
    "# READING A STATA FILE\n",
    "rtg_table = pd.read_stata(path+'replicationdatajpr-oldstata.dta')"
   ]
  },
  {
   "cell_type": "code",
   "execution_count": 4,
   "metadata": {},
   "outputs": [
    {
     "data": {
      "text/html": [
       "<div>\n",
       "<style scoped>\n",
       "    .dataframe tbody tr th:only-of-type {\n",
       "        vertical-align: middle;\n",
       "    }\n",
       "\n",
       "    .dataframe tbody tr th {\n",
       "        vertical-align: top;\n",
       "    }\n",
       "\n",
       "    .dataframe thead th {\n",
       "        text-align: right;\n",
       "    }\n",
       "</style>\n",
       "<table border=\"1\" class=\"dataframe\">\n",
       "  <thead>\n",
       "    <tr style=\"text-align: right;\">\n",
       "      <th></th>\n",
       "      <th>year</th>\n",
       "      <th>gname</th>\n",
       "      <th>ffund</th>\n",
       "      <th>childrec</th>\n",
       "      <th>frec</th>\n",
       "      <th>rebel</th>\n",
       "      <th>parterr</th>\n",
       "      <th>terpwing</th>\n",
       "      <th>teraff</th>\n",
       "      <th>govcaus</th>\n",
       "      <th>...</th>\n",
       "      <th>nat</th>\n",
       "      <th>civcausreal</th>\n",
       "      <th>civcauseffreal</th>\n",
       "      <th>outnegrep</th>\n",
       "      <th>cleavage</th>\n",
       "      <th>reputation</th>\n",
       "      <th>last</th>\n",
       "      <th>counter</th>\n",
       "      <th>endedtype</th>\n",
       "      <th>endedtype2</th>\n",
       "    </tr>\n",
       "  </thead>\n",
       "  <tbody>\n",
       "    <tr>\n",
       "      <th>0</th>\n",
       "      <td>1989</td>\n",
       "      <td>1 May Group</td>\n",
       "      <td>0</td>\n",
       "      <td>0</td>\n",
       "      <td>0</td>\n",
       "      <td>0</td>\n",
       "      <td>0</td>\n",
       "      <td>0</td>\n",
       "      <td>0</td>\n",
       "      <td>1</td>\n",
       "      <td>...</td>\n",
       "      <td>0.0</td>\n",
       "      <td>0.250000</td>\n",
       "      <td>1.0</td>\n",
       "      <td>1.0</td>\n",
       "      <td>1.0</td>\n",
       "      <td>0.0</td>\n",
       "      <td>3.0</td>\n",
       "      <td>1.0</td>\n",
       "      <td>0.0</td>\n",
       "      <td>0.0</td>\n",
       "    </tr>\n",
       "    <tr>\n",
       "      <th>1</th>\n",
       "      <td>1991</td>\n",
       "      <td>1 May Group</td>\n",
       "      <td>0</td>\n",
       "      <td>0</td>\n",
       "      <td>0</td>\n",
       "      <td>0</td>\n",
       "      <td>0</td>\n",
       "      <td>0</td>\n",
       "      <td>0</td>\n",
       "      <td>0</td>\n",
       "      <td>...</td>\n",
       "      <td>0.0</td>\n",
       "      <td>2.333333</td>\n",
       "      <td>0.0</td>\n",
       "      <td>0.0</td>\n",
       "      <td>1.0</td>\n",
       "      <td>0.0</td>\n",
       "      <td>3.0</td>\n",
       "      <td>2.0</td>\n",
       "      <td>0.0</td>\n",
       "      <td>0.0</td>\n",
       "    </tr>\n",
       "    <tr>\n",
       "      <th>2</th>\n",
       "      <td>1992</td>\n",
       "      <td>1 May Group</td>\n",
       "      <td>0</td>\n",
       "      <td>0</td>\n",
       "      <td>0</td>\n",
       "      <td>0</td>\n",
       "      <td>0</td>\n",
       "      <td>0</td>\n",
       "      <td>0</td>\n",
       "      <td>0</td>\n",
       "      <td>...</td>\n",
       "      <td>0.0</td>\n",
       "      <td>0.000000</td>\n",
       "      <td>0.0</td>\n",
       "      <td>0.0</td>\n",
       "      <td>1.0</td>\n",
       "      <td>0.0</td>\n",
       "      <td>3.0</td>\n",
       "      <td>3.0</td>\n",
       "      <td>1.0</td>\n",
       "      <td>1.0</td>\n",
       "    </tr>\n",
       "    <tr>\n",
       "      <th>3</th>\n",
       "      <td>1989</td>\n",
       "      <td>16 January Organization for the Liberation of ...</td>\n",
       "      <td>0</td>\n",
       "      <td>0</td>\n",
       "      <td>0</td>\n",
       "      <td>0</td>\n",
       "      <td>0</td>\n",
       "      <td>0</td>\n",
       "      <td>0</td>\n",
       "      <td>1</td>\n",
       "      <td>...</td>\n",
       "      <td>NaN</td>\n",
       "      <td>22.625000</td>\n",
       "      <td>0.0</td>\n",
       "      <td>0.0</td>\n",
       "      <td>NaN</td>\n",
       "      <td>0.0</td>\n",
       "      <td>1.0</td>\n",
       "      <td>1.0</td>\n",
       "      <td>1.0</td>\n",
       "      <td>1.0</td>\n",
       "    </tr>\n",
       "    <tr>\n",
       "      <th>4</th>\n",
       "      <td>1983</td>\n",
       "      <td>2 April Group</td>\n",
       "      <td>0</td>\n",
       "      <td>0</td>\n",
       "      <td>0</td>\n",
       "      <td>0</td>\n",
       "      <td>0</td>\n",
       "      <td>0</td>\n",
       "      <td>0</td>\n",
       "      <td>0</td>\n",
       "      <td>...</td>\n",
       "      <td>0.0</td>\n",
       "      <td>0.000000</td>\n",
       "      <td>0.0</td>\n",
       "      <td>1.0</td>\n",
       "      <td>1.0</td>\n",
       "      <td>0.0</td>\n",
       "      <td>1.0</td>\n",
       "      <td>1.0</td>\n",
       "      <td>1.0</td>\n",
       "      <td>1.0</td>\n",
       "    </tr>\n",
       "  </tbody>\n",
       "</table>\n",
       "<p>5 rows × 50 columns</p>\n",
       "</div>"
      ],
      "text/plain": [
       "   year                                              gname  ffund  childrec  \\\n",
       "0  1989                                        1 May Group      0         0   \n",
       "1  1991                                        1 May Group      0         0   \n",
       "2  1992                                        1 May Group      0         0   \n",
       "3  1989  16 January Organization for the Liberation of ...      0         0   \n",
       "4  1983                                      2 April Group      0         0   \n",
       "\n",
       "   frec  rebel  parterr  terpwing  teraff  govcaus  ...  nat  civcausreal  \\\n",
       "0     0      0        0         0       0        1  ...  0.0     0.250000   \n",
       "1     0      0        0         0       0        0  ...  0.0     2.333333   \n",
       "2     0      0        0         0       0        0  ...  0.0     0.000000   \n",
       "3     0      0        0         0       0        1  ...  NaN    22.625000   \n",
       "4     0      0        0         0       0        0  ...  0.0     0.000000   \n",
       "\n",
       "   civcauseffreal  outnegrep  cleavage  reputation  last  counter  endedtype  \\\n",
       "0             1.0        1.0       1.0         0.0   3.0      1.0        0.0   \n",
       "1             0.0        0.0       1.0         0.0   3.0      2.0        0.0   \n",
       "2             0.0        0.0       1.0         0.0   3.0      3.0        1.0   \n",
       "3             0.0        0.0       NaN         0.0   1.0      1.0        1.0   \n",
       "4             0.0        1.0       1.0         0.0   1.0      1.0        1.0   \n",
       "\n",
       "   endedtype2  \n",
       "0         0.0  \n",
       "1         0.0  \n",
       "2         1.0  \n",
       "3         1.0  \n",
       "4         1.0  \n",
       "\n",
       "[5 rows x 50 columns]"
      ]
     },
     "execution_count": 4,
     "metadata": {},
     "output_type": "execute_result"
    }
   ],
   "source": [
    "rtg_table.head()"
   ]
  },
  {
   "cell_type": "markdown",
   "metadata": {},
   "source": [
    "#### Dataset 2: The Foundations of Rebel Group Emergence (FORGE) Dataset\n",
    "\n",
    "Description: It provides information on the origins of violent non-state actors engaged in armed conflict against their government, resulting in 25+ yearly battle deaths, active between 1946 and 2011. The unit of observation in this dataset is the rebel group organization. We also include information on the dyad and conflict in which these groups are participants for easy integration with various Uppsala Conflict Data Program (UCDP) datasets. We draw upon the population of groups included in the Non-State Actor database described in greater detail here:\n",
    "    \n",
    "[Link to data](http://ksgleditsch.com/eacd.html)"
   ]
  },
  {
   "cell_type": "code",
   "execution_count": 5,
   "metadata": {},
   "outputs": [],
   "source": [
    "# READING AN ASCII FILE ON TABULAR FORMAT WITH CSV FUNCTION\n",
    "forge_table = pd.read_csv(path+'nsa_v3.4_21November2013.asc', delimiter='\\t')"
   ]
  },
  {
   "cell_type": "code",
   "execution_count": 6,
   "metadata": {},
   "outputs": [
    {
     "data": {
      "text/html": [
       "<div>\n",
       "<style scoped>\n",
       "    .dataframe tbody tr th:only-of-type {\n",
       "        vertical-align: middle;\n",
       "    }\n",
       "\n",
       "    .dataframe tbody tr th {\n",
       "        vertical-align: top;\n",
       "    }\n",
       "\n",
       "    .dataframe thead th {\n",
       "        text-align: right;\n",
       "    }\n",
       "</style>\n",
       "<table border=\"1\" class=\"dataframe\">\n",
       "  <thead>\n",
       "    <tr style=\"text-align: right;\">\n",
       "      <th></th>\n",
       "      <th>obsid</th>\n",
       "      <th>ucdpid</th>\n",
       "      <th>dyadid</th>\n",
       "      <th>side_a</th>\n",
       "      <th>acr</th>\n",
       "      <th>side_b</th>\n",
       "      <th>startdate</th>\n",
       "      <th>enddate</th>\n",
       "      <th>oldid</th>\n",
       "      <th>oldconfid</th>\n",
       "      <th>...</th>\n",
       "      <th>rsupname</th>\n",
       "      <th>gov.support</th>\n",
       "      <th>gtypesup</th>\n",
       "      <th>gsupname</th>\n",
       "      <th>govextpart</th>\n",
       "      <th>type.of.termination</th>\n",
       "      <th>victory.side</th>\n",
       "      <th>prevactive</th>\n",
       "      <th>prevact.ref</th>\n",
       "      <th>oldobsid</th>\n",
       "    </tr>\n",
       "  </thead>\n",
       "  <tbody>\n",
       "    <tr>\n",
       "      <th>0</th>\n",
       "      <td>NSA.3.4-1</td>\n",
       "      <td>1</td>\n",
       "      <td>462</td>\n",
       "      <td>Bolivia</td>\n",
       "      <td>BOL</td>\n",
       "      <td>Popular Revolutionary Movement</td>\n",
       "      <td>1946-06-01</td>\n",
       "      <td>1946-07-21</td>\n",
       "      <td>1010</td>\n",
       "      <td>1010.1</td>\n",
       "      <td>...</td>\n",
       "      <td>NaN</td>\n",
       "      <td>no</td>\n",
       "      <td>NaN</td>\n",
       "      <td>NaN</td>\n",
       "      <td>no</td>\n",
       "      <td>4.0</td>\n",
       "      <td>2.0</td>\n",
       "      <td>0</td>\n",
       "      <td>NaN</td>\n",
       "      <td>NSA.3.3-1</td>\n",
       "    </tr>\n",
       "    <tr>\n",
       "      <th>1</th>\n",
       "      <td>NSA.3.4-4</td>\n",
       "      <td>1</td>\n",
       "      <td>463</td>\n",
       "      <td>Bolivia</td>\n",
       "      <td>BOL</td>\n",
       "      <td>MNR</td>\n",
       "      <td>1952-04-09</td>\n",
       "      <td>1952-04-12</td>\n",
       "      <td>1010</td>\n",
       "      <td>1010.2</td>\n",
       "      <td>...</td>\n",
       "      <td>NaN</td>\n",
       "      <td>no</td>\n",
       "      <td>NaN</td>\n",
       "      <td>NaN</td>\n",
       "      <td>no</td>\n",
       "      <td>4.0</td>\n",
       "      <td>2.0</td>\n",
       "      <td>0</td>\n",
       "      <td>NaN</td>\n",
       "      <td>NSA.3.3-4</td>\n",
       "    </tr>\n",
       "    <tr>\n",
       "      <th>2</th>\n",
       "      <td>NSA.3.4-7</td>\n",
       "      <td>1</td>\n",
       "      <td>464</td>\n",
       "      <td>Bolivia</td>\n",
       "      <td>BOL</td>\n",
       "      <td>ELN</td>\n",
       "      <td>1967-03-01</td>\n",
       "      <td>1967-10-16</td>\n",
       "      <td>1010</td>\n",
       "      <td>1010.3</td>\n",
       "      <td>...</td>\n",
       "      <td>Cuba</td>\n",
       "      <td>explicit</td>\n",
       "      <td>military</td>\n",
       "      <td>USA</td>\n",
       "      <td>no</td>\n",
       "      <td>4.0</td>\n",
       "      <td>1.0</td>\n",
       "      <td>0</td>\n",
       "      <td>NaN</td>\n",
       "      <td>NSA.3.3-7</td>\n",
       "    </tr>\n",
       "    <tr>\n",
       "      <th>3</th>\n",
       "      <td>NSA.3.4-10</td>\n",
       "      <td>2</td>\n",
       "      <td>654</td>\n",
       "      <td>France</td>\n",
       "      <td>FRN</td>\n",
       "      <td>Khmer Issarak</td>\n",
       "      <td>1946-08-01</td>\n",
       "      <td>1953-11-09</td>\n",
       "      <td>1020</td>\n",
       "      <td>1020</td>\n",
       "      <td>...</td>\n",
       "      <td>Thailand</td>\n",
       "      <td>explicit</td>\n",
       "      <td>military</td>\n",
       "      <td>USA</td>\n",
       "      <td>no</td>\n",
       "      <td>7.0</td>\n",
       "      <td>NaN</td>\n",
       "      <td>0</td>\n",
       "      <td>NaN</td>\n",
       "      <td>NSA.3.3-10</td>\n",
       "    </tr>\n",
       "    <tr>\n",
       "      <th>4</th>\n",
       "      <td>NSA.3.4-13</td>\n",
       "      <td>3</td>\n",
       "      <td>466</td>\n",
       "      <td>China</td>\n",
       "      <td>CHN</td>\n",
       "      <td>Peoples Liberation Army</td>\n",
       "      <td>1946-01-01</td>\n",
       "      <td>1949-10-1</td>\n",
       "      <td>1030</td>\n",
       "      <td>1030</td>\n",
       "      <td>...</td>\n",
       "      <td>USSR</td>\n",
       "      <td>explicit</td>\n",
       "      <td>military</td>\n",
       "      <td>USA</td>\n",
       "      <td>no</td>\n",
       "      <td>4.0</td>\n",
       "      <td>2.0</td>\n",
       "      <td>0</td>\n",
       "      <td>NaN</td>\n",
       "      <td>NSA.3.3-13</td>\n",
       "    </tr>\n",
       "  </tbody>\n",
       "</table>\n",
       "<p>5 rows × 43 columns</p>\n",
       "</div>"
      ],
      "text/plain": [
       "        obsid  ucdpid  dyadid   side_a  acr                          side_b  \\\n",
       "0   NSA.3.4-1       1     462  Bolivia  BOL  Popular Revolutionary Movement   \n",
       "1   NSA.3.4-4       1     463  Bolivia  BOL                             MNR   \n",
       "2   NSA.3.4-7       1     464  Bolivia  BOL                             ELN   \n",
       "3  NSA.3.4-10       2     654   France  FRN                   Khmer Issarak   \n",
       "4  NSA.3.4-13       3     466    China  CHN         Peoples Liberation Army   \n",
       "\n",
       "    startdate     enddate oldid oldconfid  ...  rsupname  gov.support  \\\n",
       "0  1946-06-01  1946-07-21  1010    1010.1  ...       NaN           no   \n",
       "1  1952-04-09  1952-04-12  1010    1010.2  ...       NaN           no   \n",
       "2  1967-03-01  1967-10-16  1010    1010.3  ...      Cuba     explicit   \n",
       "3  1946-08-01  1953-11-09  1020      1020  ...  Thailand     explicit   \n",
       "4  1946-01-01   1949-10-1  1030      1030  ...      USSR     explicit   \n",
       "\n",
       "   gtypesup gsupname  govextpart  type.of.termination  victory.side  \\\n",
       "0       NaN      NaN          no                  4.0           2.0   \n",
       "1       NaN      NaN          no                  4.0           2.0   \n",
       "2  military      USA          no                  4.0           1.0   \n",
       "3  military      USA          no                  7.0           NaN   \n",
       "4  military      USA          no                  4.0           2.0   \n",
       "\n",
       "  prevactive prevact.ref    oldobsid  \n",
       "0          0         NaN   NSA.3.3-1  \n",
       "1          0         NaN   NSA.3.3-4  \n",
       "2          0         NaN   NSA.3.3-7  \n",
       "3          0         NaN  NSA.3.3-10  \n",
       "4          0         NaN  NSA.3.3-13  \n",
       "\n",
       "[5 rows x 43 columns]"
      ]
     },
     "execution_count": 6,
     "metadata": {},
     "output_type": "execute_result"
    }
   ],
   "source": [
    "forge_table.head()"
   ]
  },
  {
   "cell_type": "markdown",
   "metadata": {},
   "source": [
    "#### Dataset 3: The CEPS EurLex dataset: EU laws from 1952-2019 with full text and 22 variables\n",
    "\n",
    "Description: The dataset contains 142.036 EU laws - almost the entire corpus of the EU's digitally available legal acts passed between 1952 - 2019. It encompasses the three types of legally binding acts passed by the EU institutions: 102.304 regulations, 4.070 directives, 35.798 decisions in the English language. The dataset was scraped from the official EU legal database (Eur-lex.eu) and transformed in machine-readable CSV format with R and Python programming languages.   \n",
    "The Centre collected the European Policy Studies (CEPS) dataset for the TRIGGER project (https://trigger-project.eu/). We hope that it will facilitate future quantitative and computational research on the EU. \n",
    "\n",
    "[Link to data](https://dataverse.harvard.edu/dataset.xhtml?persistentId=doi:10.7910/DVN/0EGYWY)"
   ]
  },
  {
   "cell_type": "code",
   "execution_count": 7,
   "metadata": {},
   "outputs": [],
   "source": [
    "# READING AN EXCEL FILE\n",
    "eurlex_table = pd.read_excel(path+'EurLex_all_no_text.xlsx')"
   ]
  },
  {
   "cell_type": "code",
   "execution_count": 8,
   "metadata": {},
   "outputs": [
    {
     "data": {
      "text/html": [
       "<div>\n",
       "<style scoped>\n",
       "    .dataframe tbody tr th:only-of-type {\n",
       "        vertical-align: middle;\n",
       "    }\n",
       "\n",
       "    .dataframe tbody tr th {\n",
       "        vertical-align: top;\n",
       "    }\n",
       "\n",
       "    .dataframe thead th {\n",
       "        text-align: right;\n",
       "    }\n",
       "</style>\n",
       "<table border=\"1\" class=\"dataframe\">\n",
       "  <thead>\n",
       "    <tr style=\"text-align: right;\">\n",
       "      <th></th>\n",
       "      <th>CELEX</th>\n",
       "      <th>Act_name</th>\n",
       "      <th>Act_type</th>\n",
       "      <th>Status</th>\n",
       "      <th>EUROVOC</th>\n",
       "      <th>Subject_matter</th>\n",
       "      <th>Treaty</th>\n",
       "      <th>Legal_basis_celex</th>\n",
       "      <th>Authors</th>\n",
       "      <th>Procedure_number</th>\n",
       "      <th>...</th>\n",
       "      <th>Temporal_status</th>\n",
       "      <th>Act_cites</th>\n",
       "      <th>Cites_links</th>\n",
       "      <th>Act_ammends</th>\n",
       "      <th>Ammends_links</th>\n",
       "      <th>Eurlex_link</th>\n",
       "      <th>ELI_link</th>\n",
       "      <th>Proposal_link</th>\n",
       "      <th>Oeil_link</th>\n",
       "      <th>Additional_info</th>\n",
       "    </tr>\n",
       "  </thead>\n",
       "  <tbody>\n",
       "    <tr>\n",
       "      <th>0</th>\n",
       "      <td>32019D0276</td>\n",
       "      <td>Decision (EU) 2019/276 of the European Parliam...</td>\n",
       "      <td>Decision</td>\n",
       "      <td>In Force</td>\n",
       "      <td>aid to refugees; budget appropriation; EC gene...</td>\n",
       "      <td>cooperation policy;  budget;  EU finance;  int...</td>\n",
       "      <td>TFEU</td>\n",
       "      <td>32013Q1220(01)</td>\n",
       "      <td>European Parliament; European Council</td>\n",
       "      <td>NaN</td>\n",
       "      <td>...</td>\n",
       "      <td>NaN</td>\n",
       "      <td>32013R1311</td>\n",
       "      <td>http://data.europa.eu/eli/reg/2013/1311/oj</td>\n",
       "      <td>NaN</td>\n",
       "      <td>NaN</td>\n",
       "      <td>NaN</td>\n",
       "      <td>NaN</td>\n",
       "      <td>NaN</td>\n",
       "      <td>NaN</td>\n",
       "      <td>NaN</td>\n",
       "    </tr>\n",
       "    <tr>\n",
       "      <th>1</th>\n",
       "      <td>32019D0277</td>\n",
       "      <td>Decision (EU) 2019/277 of the European Parliam...</td>\n",
       "      <td>Decision</td>\n",
       "      <td>In Force</td>\n",
       "      <td>aid to catastrophe victims; emergency aid; EC ...</td>\n",
       "      <td>cooperation policy;  EU finance;  budget;  det...</td>\n",
       "      <td>TFEU</td>\n",
       "      <td>32002R2012; 32013Q1220(01)</td>\n",
       "      <td>European Parliament; European Council</td>\n",
       "      <td>NaN</td>\n",
       "      <td>...</td>\n",
       "      <td>NaN</td>\n",
       "      <td>32013R1311</td>\n",
       "      <td>http://data.europa.eu/eli/reg/2013/1311/oj</td>\n",
       "      <td>NaN</td>\n",
       "      <td>NaN</td>\n",
       "      <td>NaN</td>\n",
       "      <td>NaN</td>\n",
       "      <td>NaN</td>\n",
       "      <td>NaN</td>\n",
       "      <td>NaN</td>\n",
       "    </tr>\n",
       "    <tr>\n",
       "      <th>2</th>\n",
       "      <td>32019D0275</td>\n",
       "      <td>Decision (EU) 2019/275 of the European Parliam...</td>\n",
       "      <td>Decision</td>\n",
       "      <td>In Force</td>\n",
       "      <td>professional reintegration; Attica; EGF; EC ge...</td>\n",
       "      <td>employment;  regions of EU Member States;  EU ...</td>\n",
       "      <td>TFEU</td>\n",
       "      <td>32013Q1220(01); 32013R1309</td>\n",
       "      <td>European Parliament; European Council</td>\n",
       "      <td>NaN</td>\n",
       "      <td>...</td>\n",
       "      <td>NaN</td>\n",
       "      <td>32013R1311</td>\n",
       "      <td>http://data.europa.eu/eli/reg/2013/1311/oj</td>\n",
       "      <td>NaN</td>\n",
       "      <td>NaN</td>\n",
       "      <td>NaN</td>\n",
       "      <td>NaN</td>\n",
       "      <td>NaN</td>\n",
       "      <td>NaN</td>\n",
       "      <td>NaN</td>\n",
       "    </tr>\n",
       "    <tr>\n",
       "      <th>3</th>\n",
       "      <td>32018D1859</td>\n",
       "      <td>Decision (EU) 2018/1859 of the European Parlia...</td>\n",
       "      <td>Decision</td>\n",
       "      <td>In Force</td>\n",
       "      <td>commitment appropriation; Latvia; payment appr...</td>\n",
       "      <td>budget;  Europe;  EU finance;  cooperation pol...</td>\n",
       "      <td>TFEU</td>\n",
       "      <td>32002R2012; 32013Q1220(01)</td>\n",
       "      <td>European Council; European Parliament</td>\n",
       "      <td>NaN</td>\n",
       "      <td>...</td>\n",
       "      <td>NaN</td>\n",
       "      <td>32018D508; 32013R1311</td>\n",
       "      <td>http://data.europa.eu/eli/dec/2018/508/oj; htt...</td>\n",
       "      <td>NaN</td>\n",
       "      <td>NaN</td>\n",
       "      <td>NaN</td>\n",
       "      <td>NaN</td>\n",
       "      <td>NaN</td>\n",
       "      <td>NaN</td>\n",
       "      <td>NaN</td>\n",
       "    </tr>\n",
       "    <tr>\n",
       "      <th>4</th>\n",
       "      <td>32018D1720</td>\n",
       "      <td>Decision (EU) 2018/1720 of the European Parlia...</td>\n",
       "      <td>Decision</td>\n",
       "      <td>In Force</td>\n",
       "      <td>Northern Portugal; Portugal; employment aid; e...</td>\n",
       "      <td>regions of EU Member States;  Europe;  economi...</td>\n",
       "      <td>TFEU</td>\n",
       "      <td>32013Q1220(01); 32013R1309</td>\n",
       "      <td>European Council; European Parliament</td>\n",
       "      <td>NaN</td>\n",
       "      <td>...</td>\n",
       "      <td>NaN</td>\n",
       "      <td>32013R1311</td>\n",
       "      <td>http://data.europa.eu/eli/reg/2013/1311/oj</td>\n",
       "      <td>NaN</td>\n",
       "      <td>NaN</td>\n",
       "      <td>NaN</td>\n",
       "      <td>NaN</td>\n",
       "      <td>NaN</td>\n",
       "      <td>NaN</td>\n",
       "      <td>NaN</td>\n",
       "    </tr>\n",
       "  </tbody>\n",
       "</table>\n",
       "<p>5 rows × 23 columns</p>\n",
       "</div>"
      ],
      "text/plain": [
       "        CELEX                                           Act_name  Act_type  \\\n",
       "0  32019D0276  Decision (EU) 2019/276 of the European Parliam...  Decision   \n",
       "1  32019D0277  Decision (EU) 2019/277 of the European Parliam...  Decision   \n",
       "2  32019D0275  Decision (EU) 2019/275 of the European Parliam...  Decision   \n",
       "3  32018D1859  Decision (EU) 2018/1859 of the European Parlia...  Decision   \n",
       "4  32018D1720  Decision (EU) 2018/1720 of the European Parlia...  Decision   \n",
       "\n",
       "     Status                                            EUROVOC  \\\n",
       "0  In Force  aid to refugees; budget appropriation; EC gene...   \n",
       "1  In Force  aid to catastrophe victims; emergency aid; EC ...   \n",
       "2  In Force  professional reintegration; Attica; EGF; EC ge...   \n",
       "3  In Force  commitment appropriation; Latvia; payment appr...   \n",
       "4  In Force  Northern Portugal; Portugal; employment aid; e...   \n",
       "\n",
       "                                      Subject_matter Treaty  \\\n",
       "0  cooperation policy;  budget;  EU finance;  int...   TFEU   \n",
       "1  cooperation policy;  EU finance;  budget;  det...   TFEU   \n",
       "2  employment;  regions of EU Member States;  EU ...   TFEU   \n",
       "3  budget;  Europe;  EU finance;  cooperation pol...   TFEU   \n",
       "4  regions of EU Member States;  Europe;  economi...   TFEU   \n",
       "\n",
       "            Legal_basis_celex                                Authors  \\\n",
       "0              32013Q1220(01)  European Parliament; European Council   \n",
       "1  32002R2012; 32013Q1220(01)  European Parliament; European Council   \n",
       "2  32013Q1220(01); 32013R1309  European Parliament; European Council   \n",
       "3  32002R2012; 32013Q1220(01)  European Council; European Parliament   \n",
       "4  32013Q1220(01); 32013R1309  European Council; European Parliament   \n",
       "\n",
       "  Procedure_number  ... Temporal_status              Act_cites  \\\n",
       "0              NaN  ...             NaN             32013R1311   \n",
       "1              NaN  ...             NaN             32013R1311   \n",
       "2              NaN  ...             NaN             32013R1311   \n",
       "3              NaN  ...             NaN  32018D508; 32013R1311   \n",
       "4              NaN  ...             NaN             32013R1311   \n",
       "\n",
       "                                         Cites_links Act_ammends  \\\n",
       "0         http://data.europa.eu/eli/reg/2013/1311/oj         NaN   \n",
       "1         http://data.europa.eu/eli/reg/2013/1311/oj         NaN   \n",
       "2         http://data.europa.eu/eli/reg/2013/1311/oj         NaN   \n",
       "3  http://data.europa.eu/eli/dec/2018/508/oj; htt...         NaN   \n",
       "4         http://data.europa.eu/eli/reg/2013/1311/oj         NaN   \n",
       "\n",
       "  Ammends_links Eurlex_link ELI_link Proposal_link  Oeil_link  Additional_info  \n",
       "0           NaN         NaN      NaN           NaN        NaN              NaN  \n",
       "1           NaN         NaN      NaN           NaN        NaN              NaN  \n",
       "2           NaN         NaN      NaN           NaN        NaN              NaN  \n",
       "3           NaN         NaN      NaN           NaN        NaN              NaN  \n",
       "4           NaN         NaN      NaN           NaN        NaN              NaN  \n",
       "\n",
       "[5 rows x 23 columns]"
      ]
     },
     "execution_count": 8,
     "metadata": {},
     "output_type": "execute_result"
    }
   ],
   "source": [
    "eurlex_table.head()"
   ]
  },
  {
   "cell_type": "markdown",
   "metadata": {},
   "source": [
    "---\n",
    "## 2.2. Data structures\n",
    "<a id=\"2.2\">"
   ]
  },
  {
   "cell_type": "markdown",
   "metadata": {
    "id": "KakWCAxoYUEg"
   },
   "source": [
    "A DataFrame is a collection of Series; The DataFrame is how Pandas represents a table, and Series is the data structure Pandas use to represent a column.\n",
    "\n",
    "Pandas is built on top of the Numpy library, which means that most of the methods defined for Numpy Arrays apply to Pandas Series/DataFrames.\n",
    "\n",
    "What makes Pandas so attractive is the powerful interface to access individual table records, proper handling of missing values, and relational-databases operations between DataFrames."
   ]
  },
  {
   "cell_type": "code",
   "execution_count": 9,
   "metadata": {},
   "outputs": [
    {
     "data": {
      "text/html": [
       "<div>\n",
       "<style scoped>\n",
       "    .dataframe tbody tr th:only-of-type {\n",
       "        vertical-align: middle;\n",
       "    }\n",
       "\n",
       "    .dataframe tbody tr th {\n",
       "        vertical-align: top;\n",
       "    }\n",
       "\n",
       "    .dataframe thead th {\n",
       "        text-align: right;\n",
       "    }\n",
       "</style>\n",
       "<table border=\"1\" class=\"dataframe\">\n",
       "  <thead>\n",
       "    <tr style=\"text-align: right;\">\n",
       "      <th></th>\n",
       "      <th>age</th>\n",
       "      <th>height</th>\n",
       "      <th>course</th>\n",
       "    </tr>\n",
       "  </thead>\n",
       "  <tbody>\n",
       "    <tr>\n",
       "      <th>0</th>\n",
       "      <td>20</td>\n",
       "      <td>1.8</td>\n",
       "      <td>Python</td>\n",
       "    </tr>\n",
       "    <tr>\n",
       "      <th>1</th>\n",
       "      <td>30</td>\n",
       "      <td>1.6</td>\n",
       "      <td>None</td>\n",
       "    </tr>\n",
       "  </tbody>\n",
       "</table>\n",
       "</div>"
      ],
      "text/plain": [
       "   age  height  course\n",
       "0   20     1.8  Python\n",
       "1   30     1.6    None"
      ]
     },
     "execution_count": 9,
     "metadata": {},
     "output_type": "execute_result"
    }
   ],
   "source": [
    "# Basic representation of a dataframe\n",
    "dictionary = {'age': [20, 30], 'height': [1.80, 1.60], 'course':['Python', None]}\n",
    "\n",
    "# Define a dataframe\n",
    "df = pd.DataFrame(data=dictionary)\n",
    "\n",
    "# Print the dataframe\n",
    "df"
   ]
  },
  {
   "cell_type": "markdown",
   "metadata": {
    "id": "RkmwCa15f5lA"
   },
   "source": [
    "Use the `DataFrame.info()` method to find out more about a dataframe"
   ]
  },
  {
   "cell_type": "code",
   "execution_count": 10,
   "metadata": {
    "colab": {
     "base_uri": "https://localhost:8080/"
    },
    "id": "fhF7JMuqgCSl",
    "outputId": "461ca322-d43c-49d6-a26d-c3eaa0a8f8d0"
   },
   "outputs": [
    {
     "name": "stdout",
     "output_type": "stream",
     "text": [
      "<class 'pandas.core.frame.DataFrame'>\n",
      "RangeIndex: 2 entries, 0 to 1\n",
      "Data columns (total 3 columns):\n",
      " #   Column  Non-Null Count  Dtype  \n",
      "---  ------  --------------  -----  \n",
      " 0   age     2 non-null      int64  \n",
      " 1   height  2 non-null      float64\n",
      " 2   course  1 non-null      object \n",
      "dtypes: float64(1), int64(1), object(1)\n",
      "memory usage: 176.0+ bytes\n"
     ]
    }
   ],
   "source": [
    "df.info()"
   ]
  },
  {
   "cell_type": "markdown",
   "metadata": {
    "id": "uUZNN7sfgNJd"
   },
   "source": [
    "* This is a DataFrame\n",
    "* Columns named `age`, `height` and `course`\n",
    "* Two actual 64-bit int values and one is floating point\n",
    "* The columns are not null\n",
    "* Uses 176 bytes of memory"
   ]
  },
  {
   "cell_type": "markdown",
   "metadata": {
    "id": "DfL-CSHSiXAj"
   },
   "source": [
    "The DataFrame.columns variable stores information about the dataframe's columns\n",
    "\n",
    "* Note that this is data, _not_ a method. (it doesn't have parentheses)\n",
    "  - Like `math.pi`\n",
    "  - So do not use `()` to call it"
   ]
  },
  {
   "cell_type": "code",
   "execution_count": 11,
   "metadata": {
    "colab": {
     "base_uri": "https://localhost:8080/"
    },
    "id": "tgsIlosei0Tz",
    "outputId": "8ec2c2cc-472c-4417-da1d-861b9e322bdc"
   },
   "outputs": [
    {
     "data": {
      "text/plain": [
       "Index(['age', 'height', 'course'], dtype='object')"
      ]
     },
     "execution_count": 11,
     "metadata": {},
     "output_type": "execute_result"
    }
   ],
   "source": [
    "df.columns"
   ]
  },
  {
   "cell_type": "markdown",
   "metadata": {
    "id": "mIUo3PO6i-s0"
   },
   "source": [
    "Use `DataFrame.T` to transpose a dataframe:\n",
    "\n",
    "* Sometimes want to treat columns as rows and vice versa.\n",
    "* Transpose (written `.T`) doesn't copy the data, just changes the program's view of it.\n",
    "* Like `columns`, it is a member variable\n"
   ]
  },
  {
   "cell_type": "code",
   "execution_count": 12,
   "metadata": {
    "colab": {
     "base_uri": "https://localhost:8080/",
     "height": 421
    },
    "id": "gzEYw1Slj5ZA",
    "outputId": "c5bb7900-166b-493e-ad50-5ee1e95c0a2a"
   },
   "outputs": [
    {
     "data": {
      "text/html": [
       "<div>\n",
       "<style scoped>\n",
       "    .dataframe tbody tr th:only-of-type {\n",
       "        vertical-align: middle;\n",
       "    }\n",
       "\n",
       "    .dataframe tbody tr th {\n",
       "        vertical-align: top;\n",
       "    }\n",
       "\n",
       "    .dataframe thead th {\n",
       "        text-align: right;\n",
       "    }\n",
       "</style>\n",
       "<table border=\"1\" class=\"dataframe\">\n",
       "  <thead>\n",
       "    <tr style=\"text-align: right;\">\n",
       "      <th></th>\n",
       "      <th>0</th>\n",
       "      <th>1</th>\n",
       "    </tr>\n",
       "  </thead>\n",
       "  <tbody>\n",
       "    <tr>\n",
       "      <th>age</th>\n",
       "      <td>20</td>\n",
       "      <td>30</td>\n",
       "    </tr>\n",
       "    <tr>\n",
       "      <th>height</th>\n",
       "      <td>1.8</td>\n",
       "      <td>1.6</td>\n",
       "    </tr>\n",
       "    <tr>\n",
       "      <th>course</th>\n",
       "      <td>Python</td>\n",
       "      <td>None</td>\n",
       "    </tr>\n",
       "  </tbody>\n",
       "</table>\n",
       "</div>"
      ],
      "text/plain": [
       "             0     1\n",
       "age         20    30\n",
       "height     1.8   1.6\n",
       "course  Python  None"
      ]
     },
     "execution_count": 12,
     "metadata": {},
     "output_type": "execute_result"
    }
   ],
   "source": [
    "df.T"
   ]
  },
  {
   "cell_type": "markdown",
   "metadata": {
    "id": "lYXaxYJzkA27"
   },
   "source": [
    "Use `DataFrame.describe()` to get summary statistics about data\n",
    "\n",
    "`DataFrame.describe()` gets the summary statistics of only the columns that have numerical data. All other columns are ignored, unless you use the argument `include = 'all'` "
   ]
  },
  {
   "cell_type": "code",
   "execution_count": 13,
   "metadata": {
    "colab": {
     "base_uri": "https://localhost:8080/",
     "height": 317
    },
    "id": "z5QUhwiqkc8T",
    "outputId": "086088ad-a755-45a3-a13e-991ba5ce5b3e"
   },
   "outputs": [
    {
     "data": {
      "text/html": [
       "<div>\n",
       "<style scoped>\n",
       "    .dataframe tbody tr th:only-of-type {\n",
       "        vertical-align: middle;\n",
       "    }\n",
       "\n",
       "    .dataframe tbody tr th {\n",
       "        vertical-align: top;\n",
       "    }\n",
       "\n",
       "    .dataframe thead th {\n",
       "        text-align: right;\n",
       "    }\n",
       "</style>\n",
       "<table border=\"1\" class=\"dataframe\">\n",
       "  <thead>\n",
       "    <tr style=\"text-align: right;\">\n",
       "      <th></th>\n",
       "      <th>age</th>\n",
       "      <th>height</th>\n",
       "    </tr>\n",
       "  </thead>\n",
       "  <tbody>\n",
       "    <tr>\n",
       "      <th>count</th>\n",
       "      <td>2.000000</td>\n",
       "      <td>2.000000</td>\n",
       "    </tr>\n",
       "    <tr>\n",
       "      <th>mean</th>\n",
       "      <td>25.000000</td>\n",
       "      <td>1.700000</td>\n",
       "    </tr>\n",
       "    <tr>\n",
       "      <th>std</th>\n",
       "      <td>7.071068</td>\n",
       "      <td>0.141421</td>\n",
       "    </tr>\n",
       "    <tr>\n",
       "      <th>min</th>\n",
       "      <td>20.000000</td>\n",
       "      <td>1.600000</td>\n",
       "    </tr>\n",
       "    <tr>\n",
       "      <th>25%</th>\n",
       "      <td>22.500000</td>\n",
       "      <td>1.650000</td>\n",
       "    </tr>\n",
       "    <tr>\n",
       "      <th>50%</th>\n",
       "      <td>25.000000</td>\n",
       "      <td>1.700000</td>\n",
       "    </tr>\n",
       "    <tr>\n",
       "      <th>75%</th>\n",
       "      <td>27.500000</td>\n",
       "      <td>1.750000</td>\n",
       "    </tr>\n",
       "    <tr>\n",
       "      <th>max</th>\n",
       "      <td>30.000000</td>\n",
       "      <td>1.800000</td>\n",
       "    </tr>\n",
       "  </tbody>\n",
       "</table>\n",
       "</div>"
      ],
      "text/plain": [
       "             age    height\n",
       "count   2.000000  2.000000\n",
       "mean   25.000000  1.700000\n",
       "std     7.071068  0.141421\n",
       "min    20.000000  1.600000\n",
       "25%    22.500000  1.650000\n",
       "50%    25.000000  1.700000\n",
       "75%    27.500000  1.750000\n",
       "max    30.000000  1.800000"
      ]
     },
     "execution_count": 13,
     "metadata": {},
     "output_type": "execute_result"
    }
   ],
   "source": [
    "df.describe()"
   ]
  },
  {
   "cell_type": "markdown",
   "metadata": {},
   "source": [
    "Make use of a list to select desired columns and create a subset"
   ]
  },
  {
   "cell_type": "code",
   "execution_count": 14,
   "metadata": {},
   "outputs": [
    {
     "data": {
      "text/html": [
       "<div>\n",
       "<style scoped>\n",
       "    .dataframe tbody tr th:only-of-type {\n",
       "        vertical-align: middle;\n",
       "    }\n",
       "\n",
       "    .dataframe tbody tr th {\n",
       "        vertical-align: top;\n",
       "    }\n",
       "\n",
       "    .dataframe thead th {\n",
       "        text-align: right;\n",
       "    }\n",
       "</style>\n",
       "<table border=\"1\" class=\"dataframe\">\n",
       "  <thead>\n",
       "    <tr style=\"text-align: right;\">\n",
       "      <th></th>\n",
       "      <th>age</th>\n",
       "      <th>course</th>\n",
       "    </tr>\n",
       "  </thead>\n",
       "  <tbody>\n",
       "    <tr>\n",
       "      <th>0</th>\n",
       "      <td>20</td>\n",
       "      <td>Python</td>\n",
       "    </tr>\n",
       "    <tr>\n",
       "      <th>1</th>\n",
       "      <td>30</td>\n",
       "      <td>None</td>\n",
       "    </tr>\n",
       "  </tbody>\n",
       "</table>\n",
       "</div>"
      ],
      "text/plain": [
       "   age  course\n",
       "0   20  Python\n",
       "1   30    None"
      ]
     },
     "execution_count": 14,
     "metadata": {},
     "output_type": "execute_result"
    }
   ],
   "source": [
    "# Desired columns\n",
    "my_columns = ['age','course']\n",
    "\n",
    "# Selection of subset\n",
    "df[my_columns]"
   ]
  },
  {
   "cell_type": "markdown",
   "metadata": {},
   "source": [
    "Use `DataFrame.to_csv()` to generate a CSV file as result of the analysed dataframe"
   ]
  },
  {
   "cell_type": "code",
   "execution_count": 15,
   "metadata": {},
   "outputs": [],
   "source": [
    "df[my_columns].to_csv('example.csv', index=False)"
   ]
  },
  {
   "cell_type": "markdown",
   "metadata": {},
   "source": [
    "## EXERCISES"
   ]
  },
  {
   "cell_type": "markdown",
   "metadata": {},
   "source": [
    "+ _1. Reproduce the examples given in the introduction of this notebook\n",
    "\n",
    "    - Download 1 of the three datasets from section 2.1\n",
    "    - Use Pandas to \n",
    "        - define a path to the files from your local computer,\n",
    "        - read it using a variant of the `read` function and \n",
    "        - save it in a Python object \n",
    "___"
   ]
  },
  {
   "cell_type": "markdown",
   "metadata": {},
   "source": [
    "+ _2.  Use the `help()` function to analyse Python objects and methods \n",
    "    - What is the difference between the object `df.columns` and `df.index`?\n",
    "    - What is the difference between the methods `df.head` and `df.tail`?\n",
    "\n",
    "Can you tell the difference between an object and a method?\n",
    "\n",
    "**Note:** you must substitute `df` for the name of your dataframe\n",
    "\n",
    "---\n"
   ]
  },
  {
   "cell_type": "markdown",
   "metadata": {},
   "source": [
    "+ _3.  Use the `df.info()` and `df.describe()`functions to learn general information about the datasets\n",
    "\n",
    "- What is the information presented using `df.info()`?\n",
    "- What is the information presented using `df.describe()`?\n",
    "\n",
    "**Note:** you must substitute `df` for the name of your dataframe\n",
    "\n",
    "---\n"
   ]
  },
  {
   "cell_type": "markdown",
   "metadata": {},
   "source": [
    "+ _4.  Using the `CEPS EurLex dataset`.\n",
    "\n",
    "    - Get the name of the columns using `df.columns`\n",
    "    - Create a subset of the original dataset by only selecting the columns called `Act_name` and `Eurlex_link`\n",
    "    - Using your newly created subset, sort the dataset alphabetically based on the column `Act_name`\n",
    "    - Save the sorted subset in a `CSV` file\n",
    "    - Check your filtered data. Is it what we expected?\n",
    "\n",
    "---\n"
   ]
  }
 ],
 "metadata": {
  "colab": {
   "name": "CODING4ALL.ipynb",
   "provenance": [],
   "toc_visible": true
  },
  "kernelspec": {
   "display_name": "Python 3",
   "language": "python",
   "name": "python3"
  },
  "language_info": {
   "codemirror_mode": {
    "name": "ipython",
    "version": 3
   },
   "file_extension": ".py",
   "mimetype": "text/x-python",
   "name": "python",
   "nbconvert_exporter": "python",
   "pygments_lexer": "ipython3",
   "version": "3.8.8"
  }
 },
 "nbformat": 4,
 "nbformat_minor": 4
}
